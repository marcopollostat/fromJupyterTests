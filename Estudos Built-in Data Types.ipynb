{
 "cells": [
  {
   "cell_type": "code",
   "execution_count": 1,
   "id": "f90a568d",
   "metadata": {},
   "outputs": [],
   "source": [
    "import numpy as np\n",
    "import pandas as pd"
   ]
  },
  {
   "cell_type": "markdown",
   "id": "f6634ea7",
   "metadata": {},
   "source": [
    "# Python Collections (Arrays)\n",
    "\n",
    "### There are four collection data types in the Python programming language:"
   ]
  },
  {
   "cell_type": "markdown",
   "id": "557651c7",
   "metadata": {},
   "source": [
    "\n",
    "\n",
    "\n",
    "**List** is a collection which is ordered and changeable. Allows duplicate members.\n",
    "\n",
    "**Tuple** is a collection which is ordered and unchangeable. Allows duplicate members.\n",
    "\n",
    "**Set** is a collection which is unordered, unchangeable*, and unindexed. No duplicate members.\n",
    "\n",
    "**Dictionary** is a collection which is ordered** and changeable. No duplicate members.\n"
   ]
  },
  {
   "cell_type": "markdown",
   "id": "2e2d98d6",
   "metadata": {},
   "source": [
    "Python has the following data types built-in by default, in these categories:\n",
    "\n",
    "**Text Type**: str\n",
    "\n",
    "**Numeric Types**: int, float, complex\n",
    "\n",
    "**Sequence Types**: list, tuple, range\n",
    "\n",
    "**Mapping Type**: dict\n",
    "\n",
    "**Set Types**: set, frozenset\n",
    "\n",
    "**Boolean Type**: bool\n",
    "\n",
    "**Binary Types**: bytes, bytearray, memoryview"
   ]
  },
  {
   "cell_type": "markdown",
   "id": "51332433",
   "metadata": {},
   "source": [
    "x = [\"apple\", \"banana\", \"cherry\"] ou x = list((\"apple\", \"banana\", \"cherry\")) **is a list**\n",
    "\n",
    "x = (\"apple\", \"banana\", \"cherry\") ou x = tuple((\"apple\", \"banana\", \"cherry\")) **is a tuple**\n",
    "\n",
    "x = range(6) ou x = range(6) **is a range** \t\n",
    "\n",
    "x = {\"name\" : \"John\", \"age\" : 36} ou x = dict(name=\"John\", age=36) **is a dict** \t\n",
    "\n",
    "x = {\"apple\", \"banana\", \"cherry\"} ou x = set((\"apple\", \"banana\", \"cherry\")) **is a set** \t\n",
    "\n",
    "x = frozenset({\"apple\", \"banana\", \"cherry\"}) ou x = frozenset((\"apple\", \"banana\", \"cherry\")) **is a frozenset** \t\n",
    "\n",
    "x = True ou x = bool(5) **is a bool** \t\n",
    "\n",
    "x = b\"Hello\" ou x = bytes(5) **is a bytes** \t\n",
    "\n",
    "x = bytearray(5) ou x = bytearray(5) **is a bytearray** \t\n",
    "\n",
    "x = memoryview(bytes(5)) ou x = memoryview(bytes(5)) **is a memoryview**\n"
   ]
  },
  {
   "cell_type": "code",
   "execution_count": 2,
   "id": "f9d90edc",
   "metadata": {},
   "outputs": [
    {
     "data": {
      "text/plain": [
       "True"
      ]
     },
     "execution_count": 2,
     "metadata": {},
     "output_type": "execute_result"
    }
   ],
   "source": [
    "bool(5)"
   ]
  },
  {
   "cell_type": "code",
   "execution_count": 16,
   "id": "76edec3e",
   "metadata": {},
   "outputs": [
    {
     "data": {
      "text/plain": [
       "tuple"
      ]
     },
     "execution_count": 16,
     "metadata": {},
     "output_type": "execute_result"
    }
   ],
   "source": [
    "c = ()\n",
    "type(c)"
   ]
  },
  {
   "cell_type": "markdown",
   "id": "3f5160e2",
   "metadata": {},
   "source": [
    "# Lists"
   ]
  },
  {
   "cell_type": "code",
   "execution_count": 17,
   "id": "97eb268e",
   "metadata": {},
   "outputs": [],
   "source": [
    "thislist = [\"apple\", \"banana\", \"cherry\"]"
   ]
  },
  {
   "cell_type": "code",
   "execution_count": 18,
   "id": "4b90a478",
   "metadata": {},
   "outputs": [],
   "source": [
    "# Allow DUplicates\n",
    "thislist = [\"apple\", \"banana\", \"cherry\", \"apple\", \"cherry\"]"
   ]
  },
  {
   "cell_type": "code",
   "execution_count": 19,
   "id": "fbda0abe",
   "metadata": {},
   "outputs": [
    {
     "name": "stdout",
     "output_type": "stream",
     "text": [
      "5\n"
     ]
    }
   ],
   "source": [
    "# List Length\n",
    "print(len(thislist))"
   ]
  },
  {
   "cell_type": "code",
   "execution_count": 21,
   "id": "d5be361c",
   "metadata": {},
   "outputs": [],
   "source": [
    "# List Items - Data Types\n",
    "list1 = [\"abc\", 34, True, 40, \"male\"] # list can contain different data types\n",
    "list2 = [1, 5, 7, 9, 3]\n",
    "list3 = [True, False, False]"
   ]
  },
  {
   "cell_type": "code",
   "execution_count": 23,
   "id": "5e1d7db6",
   "metadata": {},
   "outputs": [],
   "source": [
    "# It is also possible to use the list() constructor when creating a new list.\n",
    "thislist = list((\"apple\", \"banana\", \"cherry\")) # note the double round-brackets"
   ]
  },
  {
   "cell_type": "code",
   "execution_count": 24,
   "id": "c079ab07",
   "metadata": {},
   "outputs": [
    {
     "data": {
      "text/plain": [
       "'banana'"
      ]
     },
     "execution_count": 24,
     "metadata": {},
     "output_type": "execute_result"
    }
   ],
   "source": [
    "# Access Items\n",
    "thislist = [\"apple\", \"banana\", \"cherry\"]\n",
    "thislist[1]"
   ]
  },
  {
   "cell_type": "code",
   "execution_count": 25,
   "id": "866cfb62",
   "metadata": {},
   "outputs": [
    {
     "data": {
      "text/plain": [
       "'cherry'"
      ]
     },
     "execution_count": 25,
     "metadata": {},
     "output_type": "execute_result"
    }
   ],
   "source": [
    "# Negative indexing means start from the end\n",
    "thislist[-1]"
   ]
  },
  {
   "cell_type": "code",
   "execution_count": 27,
   "id": "4e38dff1",
   "metadata": {},
   "outputs": [
    {
     "data": {
      "text/plain": [
       "['cherry', 'orange', 'kiwi']"
      ]
     },
     "execution_count": 27,
     "metadata": {},
     "output_type": "execute_result"
    }
   ],
   "source": [
    "# You can specify a range of indexes by specifying where to start and where to end the range.\n",
    "\n",
    "# When specifying a range, the return value will be a new list with the specified items.\n",
    "\n",
    "# Note: The search will start at index 2 (included) and end at index 5 (not included).\n",
    "\n",
    "\n",
    "thislist = [\"apple\", \"banana\", \"cherry\", \"orange\", \"kiwi\", \"melon\", \"mango\"]\n",
    "thislist[2:5] # Return the third, fourth, and fifth item:"
   ]
  },
  {
   "cell_type": "code",
   "execution_count": 28,
   "id": "73f31574",
   "metadata": {},
   "outputs": [
    {
     "name": "stdout",
     "output_type": "stream",
     "text": [
      "['cherry', 'orange', 'kiwi', 'melon', 'mango']\n"
     ]
    }
   ],
   "source": [
    "# By leaving out the end value, the range will go on to the end of the list:\n",
    "# This example returns the items from \"cherry\" to the end:\n",
    "thislist = [\"apple\", \"banana\", \"cherry\", \"orange\", \"kiwi\", \"melon\", \"mango\"]\n",
    "print(thislist[2:])"
   ]
  },
  {
   "cell_type": "code",
   "execution_count": 29,
   "id": "d3f498c2",
   "metadata": {},
   "outputs": [
    {
     "name": "stdout",
     "output_type": "stream",
     "text": [
      "['orange', 'kiwi', 'melon']\n"
     ]
    }
   ],
   "source": [
    "# Specify negative indexes if you want to start the search from the end of the list:\n",
    "\n",
    "# This example returns the items from \"orange\" (-4) to, but NOT including \"mango\" (-1):\n",
    "\n",
    "thislist = [\"apple\", \"banana\", \"cherry\", \"orange\", \"kiwi\", \"melon\", \"mango\"]\n",
    "print(thislist[-4:-1])"
   ]
  },
  {
   "cell_type": "code",
   "execution_count": 30,
   "id": "197d5b9e",
   "metadata": {},
   "outputs": [
    {
     "name": "stdout",
     "output_type": "stream",
     "text": [
      "Yes, 'apple' is in the fruits list\n"
     ]
    }
   ],
   "source": [
    "# Check if Item Exists\n",
    "\n",
    "# To determine if a specified item is present in a list use the in keyword:\n",
    "\n",
    "thislist = [\"apple\", \"banana\", \"cherry\"]\n",
    "\n",
    "if \"apple\" in thislist:\n",
    "  print(\"Yes, 'apple' is in the fruits list\") \n"
   ]
  },
  {
   "cell_type": "code",
   "execution_count": 31,
   "id": "160b4cb9",
   "metadata": {},
   "outputs": [
    {
     "name": "stdout",
     "output_type": "stream",
     "text": [
      "['apple', 'blackcurrant', 'cherry']\n"
     ]
    }
   ],
   "source": [
    "# Change Item Value\n",
    "\n",
    "# To change the value of a specific item, refer to the index number:\n",
    "\n",
    "thislist = [\"apple\", \"banana\", \"cherry\"]\n",
    "\n",
    "thislist[1] = \"blackcurrant\"\n",
    "\n",
    "print(thislist)\n"
   ]
  },
  {
   "cell_type": "code",
   "execution_count": 32,
   "id": "ce070d11",
   "metadata": {},
   "outputs": [
    {
     "name": "stdout",
     "output_type": "stream",
     "text": [
      "['apple', 'blackcurrant', 'watermelon', 'orange', 'kiwi', 'mango']\n"
     ]
    }
   ],
   "source": [
    "# Change a Range of Item Values\n",
    "# o change the value of items within a specific range, define a list with the new values, and refer to the range of index numbers where you want to insert the new values:\n",
    "\n",
    "thislist = [\"apple\", \"banana\", \"cherry\", \"orange\", \"kiwi\", \"mango\"]\n",
    "\n",
    "thislist[1:3] = [\"blackcurrant\", \"watermelon\"]\n",
    "\n",
    "print(thislist)\n"
   ]
  },
  {
   "cell_type": "code",
   "execution_count": 33,
   "id": "65693e9d",
   "metadata": {},
   "outputs": [
    {
     "name": "stdout",
     "output_type": "stream",
     "text": [
      "['apple', 'blackcurrant', 'watermelon', 'cherry']\n"
     ]
    }
   ],
   "source": [
    "# If you insert more items than you replace, the new items will be inserted where you specified, and the remaining items will move accordingly:\n",
    "\n",
    "# Change the second value by replacing it with two new values:\n",
    "\n",
    "thislist = [\"apple\", \"banana\", \"cherry\"]\n",
    "\n",
    "thislist[1:2] = [\"blackcurrant\", \"watermelon\"]\n",
    "\n",
    "print(thislist)\n",
    "\n"
   ]
  },
  {
   "cell_type": "code",
   "execution_count": 34,
   "id": "adf51429",
   "metadata": {},
   "outputs": [
    {
     "name": "stdout",
     "output_type": "stream",
     "text": [
      "['apple', 'watermelon']\n"
     ]
    }
   ],
   "source": [
    "# If you insert less items than you replace, the new items will be inserted where you specified, and the remaining items will move accordingly:\n",
    "\n",
    "# Change the second and third value by replacing it with one value:\n",
    "\n",
    "thislist = [\"apple\", \"banana\", \"cherry\"]\n",
    "\n",
    "thislist[1:3] = [\"watermelon\"]\n",
    "\n",
    "print(thislist) "
   ]
  },
  {
   "cell_type": "code",
   "execution_count": 35,
   "id": "2466100f",
   "metadata": {},
   "outputs": [
    {
     "name": "stdout",
     "output_type": "stream",
     "text": [
      "['apple', 'banana', 'watermelon', 'cherry']\n"
     ]
    }
   ],
   "source": [
    "# Insert Items\n",
    "\n",
    "# To insert a new list item, without replacing any of the existing values, we can use the insert() method.\n",
    "\n",
    "# The insert() method inserts an item at the specified index:\n",
    "\n",
    "thislist = [\"apple\", \"banana\", \"cherry\"]\n",
    "\n",
    "thislist.insert(2, \"watermelon\")\n",
    "\n",
    "print(thislist)\n",
    "\n"
   ]
  },
  {
   "cell_type": "code",
   "execution_count": 36,
   "id": "cc06b0a3",
   "metadata": {},
   "outputs": [
    {
     "name": "stdout",
     "output_type": "stream",
     "text": [
      "['apple', 'banana', 'cherry', 'orange']\n"
     ]
    }
   ],
   "source": [
    "# Append Items\n",
    "\n",
    "# To add an item to the end of the list, use the append() method:\n",
    "\n",
    "thislist = [\"apple\", \"banana\", \"cherry\"]\n",
    "\n",
    "thislist.append(\"orange\")\n",
    "\n",
    "print(thislist)\n",
    "\n"
   ]
  },
  {
   "cell_type": "code",
   "execution_count": 48,
   "id": "3774fdfd",
   "metadata": {},
   "outputs": [
    {
     "data": {
      "text/plain": [
       "['apple',\n",
       " 'banana',\n",
       " 'cherry',\n",
       " 'mango',\n",
       " 'pineapple',\n",
       " 'papaya',\n",
       " ['mango', 'pineapple', 'papaya']]"
      ]
     },
     "execution_count": 48,
     "metadata": {},
     "output_type": "execute_result"
    }
   ],
   "source": [
    "thislist = [\"apple\", \"banana\", \"cherry\"]\n",
    "\n",
    "tropical = [\"mango\", \"pineapple\", \"papaya\"]\n",
    "\n",
    "thislist.append(tropical)\n",
    "\n",
    "thislist"
   ]
  },
  {
   "cell_type": "code",
   "execution_count": 50,
   "id": "216dc7dc",
   "metadata": {},
   "outputs": [
    {
     "data": {
      "text/plain": [
       "['mango', 'pineapple', 'papaya']"
      ]
     },
     "execution_count": 50,
     "metadata": {},
     "output_type": "execute_result"
    }
   ],
   "source": [
    "thislist[-1]"
   ]
  },
  {
   "cell_type": "code",
   "execution_count": 53,
   "id": "1405d6cb",
   "metadata": {},
   "outputs": [
    {
     "data": {
      "text/plain": [
       "['papaya', ['mango', 'pineapple', 'papaya']]"
      ]
     },
     "execution_count": 53,
     "metadata": {},
     "output_type": "execute_result"
    }
   ],
   "source": [
    "thislist[-2:]"
   ]
  },
  {
   "cell_type": "code",
   "execution_count": 37,
   "id": "fb8689eb",
   "metadata": {},
   "outputs": [
    {
     "name": "stdout",
     "output_type": "stream",
     "text": [
      "['apple', 'orange', 'banana', 'cherry']\n"
     ]
    }
   ],
   "source": [
    "# Insert Items\n",
    "\n",
    "# To insert a list item at a specified index, use the insert() method.\n",
    "\n",
    "# The insert() method inserts an item at the specified index:\n",
    "\n",
    "thislist = [\"apple\", \"banana\", \"cherry\"]\n",
    "\n",
    "thislist.insert(1, \"orange\")\n",
    "\n",
    "print(thislist)\n",
    "\n",
    "\n"
   ]
  },
  {
   "cell_type": "code",
   "execution_count": 47,
   "id": "406eb75d",
   "metadata": {},
   "outputs": [
    {
     "name": "stdout",
     "output_type": "stream",
     "text": [
      "['apple', 'banana', 'cherry', 'mango', 'pineapple', 'papaya']\n"
     ]
    }
   ],
   "source": [
    "# Extend List\n",
    "\n",
    "# To append elements from another list to the current list, use the extend() method.\n",
    "\n",
    "thislist = [\"apple\", \"banana\", \"cherry\"]\n",
    "\n",
    "tropical = [\"mango\", \"pineapple\", \"papaya\"]\n",
    "\n",
    "thislist.extend(tropical)\n",
    "\n",
    "print(thislist)\n"
   ]
  },
  {
   "cell_type": "code",
   "execution_count": 54,
   "id": "79fd3c50",
   "metadata": {},
   "outputs": [
    {
     "name": "stdout",
     "output_type": "stream",
     "text": [
      "['apple', 'banana', 'cherry', 'kiwi', 'orange']\n"
     ]
    }
   ],
   "source": [
    "# Add Any Iterable\n",
    "\n",
    "# The extend() method does not have to append lists, \n",
    "# you can add any iterable object (tuples, sets, dictionaries etc.).\n",
    "\n",
    "thislist = [\"apple\", \"banana\", \"cherry\"]\n",
    "\n",
    "thistuple = (\"kiwi\", \"orange\")\n",
    "\n",
    "thislist.extend(thistuple)\n",
    "\n",
    "print(thislist)"
   ]
  },
  {
   "cell_type": "code",
   "execution_count": 55,
   "id": "a12d9c04",
   "metadata": {},
   "outputs": [
    {
     "name": "stdout",
     "output_type": "stream",
     "text": [
      "['apple', 'cherry']\n"
     ]
    }
   ],
   "source": [
    "# Remove Specified Item\n",
    "\n",
    "# The remove() method removes the specified item.\n",
    "\n",
    "thislist = [\"apple\", \"banana\", \"cherry\"]\n",
    "thislist.remove(\"banana\")\n",
    "print(thislist)"
   ]
  },
  {
   "cell_type": "code",
   "execution_count": 57,
   "id": "562e6fa8",
   "metadata": {},
   "outputs": [
    {
     "name": "stdout",
     "output_type": "stream",
     "text": [
      "['apple', 'cherry']\n"
     ]
    }
   ],
   "source": [
    "# Remove Specified Index\n",
    "\n",
    "# The pop() method removes the specified index.\n",
    "\n",
    "thislist = [\"apple\", \"banana\", \"cherry\"]\n",
    "thislist.pop(1)\n",
    "print(thislist)"
   ]
  },
  {
   "cell_type": "code",
   "execution_count": 58,
   "id": "5532d1ac",
   "metadata": {},
   "outputs": [
    {
     "name": "stdout",
     "output_type": "stream",
     "text": [
      "['apple', 'banana']\n"
     ]
    }
   ],
   "source": [
    "# If you do not specify the index, the pop() method removes the last item.\n",
    "thislist = [\"apple\", \"banana\", \"cherry\"]\n",
    "thislist.pop()\n",
    "print(thislist)"
   ]
  },
  {
   "cell_type": "code",
   "execution_count": 62,
   "id": "e55eb3b4",
   "metadata": {},
   "outputs": [
    {
     "name": "stdout",
     "output_type": "stream",
     "text": [
      "['banana', 'cherry']\n"
     ]
    }
   ],
   "source": [
    "# The del keyword also removes the specified index:\n",
    "thislist = [\"apple\", \"banana\", \"cherry\"]\n",
    "del thislist[0]\n",
    "print(thislist)"
   ]
  },
  {
   "cell_type": "code",
   "execution_count": 64,
   "id": "fe8bf2c4",
   "metadata": {},
   "outputs": [
    {
     "ename": "NameError",
     "evalue": "name 'thislist' is not defined",
     "output_type": "error",
     "traceback": [
      "\u001b[0;31m---------------------------------------------------------------------------\u001b[0m",
      "\u001b[0;31mNameError\u001b[0m                                 Traceback (most recent call last)",
      "\u001b[0;32m/tmp/ipykernel_13760/1728253272.py\u001b[0m in \u001b[0;36m<module>\u001b[0;34m\u001b[0m\n\u001b[1;32m      2\u001b[0m \u001b[0mthislist\u001b[0m \u001b[0;34m=\u001b[0m \u001b[0;34m[\u001b[0m\u001b[0;34m\"apple\"\u001b[0m\u001b[0;34m,\u001b[0m \u001b[0;34m\"banana\"\u001b[0m\u001b[0;34m,\u001b[0m \u001b[0;34m\"cherry\"\u001b[0m\u001b[0;34m]\u001b[0m\u001b[0;34m\u001b[0m\u001b[0;34m\u001b[0m\u001b[0m\n\u001b[1;32m      3\u001b[0m \u001b[0;32mdel\u001b[0m \u001b[0mthislist\u001b[0m\u001b[0;34m\u001b[0m\u001b[0;34m\u001b[0m\u001b[0m\n\u001b[0;32m----> 4\u001b[0;31m \u001b[0mthislist\u001b[0m\u001b[0;34m\u001b[0m\u001b[0;34m\u001b[0m\u001b[0m\n\u001b[0m",
      "\u001b[0;31mNameError\u001b[0m: name 'thislist' is not defined"
     ]
    }
   ],
   "source": [
    "# The del keyword can also delete the list completely.\n",
    "thislist = [\"apple\", \"banana\", \"cherry\"]\n",
    "del thislist \n",
    "thislist"
   ]
  },
  {
   "cell_type": "code",
   "execution_count": 65,
   "id": "370ae66b",
   "metadata": {},
   "outputs": [
    {
     "name": "stdout",
     "output_type": "stream",
     "text": [
      "[]\n"
     ]
    }
   ],
   "source": [
    "# Clear the List\n",
    "\n",
    "# The clear() method empties the list.\n",
    "\n",
    "# The list still remains, but it has no content.\n",
    "\n",
    "thislist = [\"apple\", \"banana\", \"cherry\"]\n",
    "thislist.clear()\n",
    "print(thislist)\n"
   ]
  },
  {
   "cell_type": "code",
   "execution_count": 66,
   "id": "b70313fb",
   "metadata": {},
   "outputs": [
    {
     "name": "stdout",
     "output_type": "stream",
     "text": [
      "apple\n",
      "banana\n",
      "cherry\n"
     ]
    }
   ],
   "source": [
    "# Loop Through a List\n",
    "\n",
    "# You can loop through the list items by using a for loop:\n",
    "\n",
    "thislist = [\"apple\", \"banana\", \"cherry\"]\n",
    "\n",
    "for x in thislist:\n",
    "  print(x) \n",
    "\n"
   ]
  },
  {
   "cell_type": "code",
   "execution_count": 67,
   "id": "852d03c8",
   "metadata": {},
   "outputs": [
    {
     "name": "stdout",
     "output_type": "stream",
     "text": [
      "apple\n",
      "banana\n",
      "cherry\n"
     ]
    }
   ],
   "source": [
    "# Loop Through the Index Numbers\n",
    "\n",
    "# You can also loop through the list items by referring to their index number.\n",
    "\n",
    "# Use the range() and len() functions to create a suitable iterable.\n",
    "\n",
    "thislist = [\"apple\", \"banana\", \"cherry\"]\n",
    "\n",
    "for i in range(len(thislist)):\n",
    "  print(thislist[i]) \n",
    "\n",
    "\n"
   ]
  },
  {
   "cell_type": "code",
   "execution_count": 68,
   "id": "1a46bf0d",
   "metadata": {},
   "outputs": [
    {
     "name": "stdout",
     "output_type": "stream",
     "text": [
      "apple\n",
      "banana\n",
      "cherry\n"
     ]
    }
   ],
   "source": [
    "# Using a While Loop\n",
    "\n",
    "# You can loop through the list items by using a while loop.\n",
    "\n",
    "# Use the len() function to determine the length of the list, then start at 0 and loop your way through the list items by refering to their indexes.\n",
    "\n",
    "# Remember to increase the index by 1 after each iteration.\n",
    "\n",
    "thislist = [\"apple\", \"banana\", \"cherry\"]\n",
    "\n",
    "i = 0\n",
    "\n",
    "while i < len(thislist):\n",
    "  print(thislist[i])\n",
    "  i = i + 1\n",
    "\n"
   ]
  },
  {
   "cell_type": "code",
   "execution_count": 70,
   "id": "029dfb03",
   "metadata": {},
   "outputs": [
    {
     "data": {
      "text/plain": [
       "[5, 6, 6]"
      ]
     },
     "execution_count": 70,
     "metadata": {},
     "output_type": "execute_result"
    }
   ],
   "source": [
    "# Looping Using List Comprehension\n",
    "\n",
    "# List Comprehension offers the shortest syntax for looping through lists:\n",
    "\n",
    "thislist = [\"apple\", \"banana\", \"cherry\"]\n",
    "\n",
    "[len(x) for x in thislist] \n",
    "\n"
   ]
  },
  {
   "cell_type": "code",
   "execution_count": 71,
   "id": "1aacd220",
   "metadata": {},
   "outputs": [
    {
     "name": "stdout",
     "output_type": "stream",
     "text": [
      "['apple', 'banana', 'mango']\n"
     ]
    }
   ],
   "source": [
    "# List Comprehension\n",
    "\n",
    "# List comprehension offers a shorter syntax when you want to create a \n",
    "# new list based on the values of an existing list.\n",
    "\n",
    "# Example:\n",
    "# Based on a list of fruits, you want a new list, containing only \n",
    "# the fruits with the letter \"a\" in the name.\n",
    "\n",
    "# Without list comprehension you will have to write a for \n",
    "# statement with a conditional test inside:\n",
    "\n",
    "fruits = [\"apple\", \"banana\", \"cherry\", \"kiwi\", \"mango\"]\n",
    "\n",
    "newlist = []\n",
    "\n",
    "for x in fruits:\n",
    "  if \"a\" in x:\n",
    "    newlist.append(x)\n",
    "\n",
    "print(newlist) \n",
    "\n"
   ]
  },
  {
   "cell_type": "code",
   "execution_count": 72,
   "id": "3e999e6e",
   "metadata": {},
   "outputs": [
    {
     "name": "stdout",
     "output_type": "stream",
     "text": [
      "['apple', 'banana', 'mango']\n"
     ]
    }
   ],
   "source": [
    "# With list comprehension you can do all that with only one line of code:\n",
    "\n",
    "fruits = [\"apple\", \"banana\", \"cherry\", \"kiwi\", \"mango\"]\n",
    "\n",
    "newlist = [x for x in fruits if \"a\" in x]\n",
    "\n",
    "print(newlist) "
   ]
  },
  {
   "cell_type": "code",
   "execution_count": 74,
   "id": "6f7ac6c0",
   "metadata": {},
   "outputs": [
    {
     "data": {
      "text/plain": [
       "['banana', 'cherry', 'kiwi', 'mango']"
      ]
     },
     "execution_count": 74,
     "metadata": {},
     "output_type": "execute_result"
    }
   ],
   "source": [
    "# The Syntax\n",
    "\n",
    "# newlist = [expression for item in iterable if condition == True]\n",
    "\n",
    "# The return value is a new list, leaving the old list unchanged.\n",
    "\n",
    "# Condition\n",
    "\n",
    "# The condition is like a filter that only accepts the items that valuate to True.\n",
    "\n",
    "# Example: Only accept items that are not \"apple\":\n",
    "\n",
    "newlist = [x for x in fruits if x != \"apple\"] \n",
    "newlist\n",
    "\n",
    "\n",
    "# The condition if x != \"apple\"  will return True for all elements other than \"apple\", \n",
    "# making the new list contain all fruits except \"apple\"."
   ]
  },
  {
   "cell_type": "code",
   "execution_count": 76,
   "id": "95618a9a",
   "metadata": {},
   "outputs": [
    {
     "data": {
      "text/plain": [
       "['apple', 'banana', 'cherry', 'kiwi', 'mango']"
      ]
     },
     "execution_count": 76,
     "metadata": {},
     "output_type": "execute_result"
    }
   ],
   "source": [
    "# The condition is optional and can be omitted:\n",
    "# Example\n",
    "\n",
    "# With no if statement:\n",
    "\n",
    "newlist = [x for x in fruits] \n",
    "newlist"
   ]
  },
  {
   "cell_type": "code",
   "execution_count": 78,
   "id": "b1eb4349",
   "metadata": {},
   "outputs": [
    {
     "data": {
      "text/plain": [
       "[0, 1, 2, 3, 4, 5, 6, 7, 8, 9]"
      ]
     },
     "execution_count": 78,
     "metadata": {},
     "output_type": "execute_result"
    }
   ],
   "source": [
    "# Iterable\n",
    "\n",
    "# The iterable can be any iterable object, like a list, tuple, set etc.\n",
    "\n",
    "#Example\n",
    "# You can use the range() function to create an iterable:\n",
    "\n",
    "newlist = [x for x in range(10)] \n",
    "newlist"
   ]
  },
  {
   "cell_type": "code",
   "execution_count": 80,
   "id": "fb909c05",
   "metadata": {},
   "outputs": [
    {
     "data": {
      "text/plain": [
       "[0, 1, 2, 3, 4]"
      ]
     },
     "execution_count": 80,
     "metadata": {},
     "output_type": "execute_result"
    }
   ],
   "source": [
    "# Same example, but with a condition:\n",
    "\n",
    "# Example\n",
    "#Accept only numbers lower than 5:\n",
    "\n",
    "newlist = [x for x in range(10) if x < 5] \n",
    "newlist"
   ]
  },
  {
   "cell_type": "code",
   "execution_count": 81,
   "id": "eca63259",
   "metadata": {},
   "outputs": [
    {
     "data": {
      "text/plain": [
       "['APPLE', 'BANANA', 'CHERRY', 'KIWI', 'MANGO']"
      ]
     },
     "execution_count": 81,
     "metadata": {},
     "output_type": "execute_result"
    }
   ],
   "source": [
    "# Expression\n",
    "\n",
    "# The expression is the current item in the iteration, but it is also the outcome, which you can manipulate before it ends up like a list item in the new list:\n",
    "\n",
    "# Example\n",
    "#Set the values in the new list to upper case:\n",
    "\n",
    "newlist = [x.upper() for x in fruits] \n",
    "newlist"
   ]
  },
  {
   "cell_type": "code",
   "execution_count": 83,
   "id": "3c0be566",
   "metadata": {},
   "outputs": [
    {
     "data": {
      "text/plain": [
       "['hello', 'hello', 'hello', 'hello', 'hello']"
      ]
     },
     "execution_count": 83,
     "metadata": {},
     "output_type": "execute_result"
    }
   ],
   "source": [
    "# You can set the outcome to whatever you like:\n",
    "#Example\n",
    "#Set all values in the new list to 'hello':\n",
    "\n",
    "newlist = ['hello' for x in fruits]\n",
    "newlist "
   ]
  },
  {
   "cell_type": "code",
   "execution_count": 84,
   "id": "3dc193a7",
   "metadata": {},
   "outputs": [
    {
     "data": {
      "text/plain": [
       "['apple', 'orange', 'cherry', 'kiwi', 'mango']"
      ]
     },
     "execution_count": 84,
     "metadata": {},
     "output_type": "execute_result"
    }
   ],
   "source": [
    "# The expression can also contain conditions, not like a filter, but as a way to manipulate the outcome:\n",
    "\n",
    "# Example:\n",
    "# Return \"orange\" instead of \"banana\":\n",
    "\n",
    "newlist = [x if x != \"banana\" else \"orange\" for x in fruits]\n",
    "newlist"
   ]
  },
  {
   "cell_type": "code",
   "execution_count": null,
   "id": "971c990d",
   "metadata": {},
   "outputs": [],
   "source": []
  },
  {
   "cell_type": "code",
   "execution_count": null,
   "id": "e443051c",
   "metadata": {},
   "outputs": [],
   "source": []
  },
  {
   "cell_type": "code",
   "execution_count": null,
   "id": "f046bd69",
   "metadata": {},
   "outputs": [],
   "source": []
  },
  {
   "cell_type": "code",
   "execution_count": null,
   "id": "cb9fbf20",
   "metadata": {},
   "outputs": [],
   "source": []
  },
  {
   "cell_type": "code",
   "execution_count": null,
   "id": "89933a28",
   "metadata": {},
   "outputs": [],
   "source": []
  }
 ],
 "metadata": {
  "kernelspec": {
   "display_name": "Python 3 (ipykernel)",
   "language": "python",
   "name": "python3"
  },
  "language_info": {
   "codemirror_mode": {
    "name": "ipython",
    "version": 3
   },
   "file_extension": ".py",
   "mimetype": "text/x-python",
   "name": "python",
   "nbconvert_exporter": "python",
   "pygments_lexer": "ipython3",
   "version": "3.8.10"
  }
 },
 "nbformat": 4,
 "nbformat_minor": 5
}

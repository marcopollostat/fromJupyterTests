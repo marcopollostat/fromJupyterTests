{
 "cells": [
  {
   "cell_type": "code",
   "execution_count": 3,
   "id": "51d383b9",
   "metadata": {},
   "outputs": [],
   "source": [
    "import pandas as pd\n",
    "import numpy as np\n",
    "import matplotlib.pyplot as plt"
   ]
  },
  {
   "cell_type": "code",
   "execution_count": 7,
   "id": "60fb2836",
   "metadata": {},
   "outputs": [
    {
     "name": "stdout",
     "output_type": "stream",
     "text": [
      "[10, 11, 12, 13, 14, 15, 16, 17, 18, 19, 20]\n"
     ]
    },
    {
     "data": {
      "text/plain": [
       "list"
      ]
     },
     "execution_count": 7,
     "metadata": {},
     "output_type": "execute_result"
    }
   ],
   "source": [
    "numb = list(range(10, 21))\n",
    "print(numb)\n",
    "type(numb)"
   ]
  },
  {
   "cell_type": "code",
   "execution_count": 9,
   "id": "282bc1a8",
   "metadata": {},
   "outputs": [
    {
     "data": {
      "text/plain": [
       "array([-5, -4, -3, -2, -1,  0,  1,  2,  3,  4])"
      ]
     },
     "execution_count": 9,
     "metadata": {},
     "output_type": "execute_result"
    }
   ],
   "source": [
    "np.arange(-5, 5, 1) # 1000 equally spaced points"
   ]
  },
  {
   "cell_type": "markdown",
   "id": "ed2fdd4d",
   "metadata": {},
   "source": [
    "Indexes and values (1)\n",
    "\n",
    "Using a for loop to iterate over a list only gives you access to every list element in each run, one after the other. If you also want to access the index information, so where the list element you're iterating over is located, you can use enumerate()."
   ]
  },
  {
   "cell_type": "code",
   "execution_count": 6,
   "id": "33d8a9ad",
   "metadata": {},
   "outputs": [
    {
     "name": "stdout",
     "output_type": "stream",
     "text": [
      "room 0: 11.25\n",
      "room 1: 18.0\n",
      "room 2: 20.0\n",
      "room 3: 10.75\n",
      "room 4: 9.5\n"
     ]
    }
   ],
   "source": [
    "# areas list\n",
    "areas = [11.25, 18.0, 20.0, 10.75, 9.50]\n",
    "\n",
    "# Change for loop to use enumerate() and update print()\n",
    "for index, h in enumerate(areas) :\n",
    "    print(\"room \" + str(index) + \": \" + str(h))"
   ]
  },
  {
   "cell_type": "markdown",
   "id": "e4741309",
   "metadata": {},
   "source": [
    "Adapt the print() function in the for loop so that the first printout becomes \"room 1: 11.25\", the second one \"room 2: 18.0\" and so on."
   ]
  },
  {
   "cell_type": "code",
   "execution_count": 7,
   "id": "5d37d2ab",
   "metadata": {},
   "outputs": [
    {
     "name": "stdout",
     "output_type": "stream",
     "text": [
      "room 1: 11.25\n",
      "room 2: 18.0\n",
      "room 3: 20.0\n",
      "room 4: 10.75\n",
      "room 5: 9.5\n"
     ]
    }
   ],
   "source": [
    "# areas list\n",
    "areas = [11.25, 18.0, 20.0, 10.75, 9.50]\n",
    "\n",
    "# Code the for loop\n",
    "for index, area in enumerate(areas) :\n",
    "    index = index + 1\n",
    "    print(\"room \" + str(index) + \": \" + str(area))"
   ]
  },
  {
   "cell_type": "markdown",
   "id": "fba7be52",
   "metadata": {},
   "source": [
    "It's basically a list of lists, where each sublist contains the name and area of a room in your house.\n",
    "\n",
    "It's up to you to build a for loop from scratch this time!"
   ]
  },
  {
   "cell_type": "code",
   "execution_count": 8,
   "id": "cea1cd0a",
   "metadata": {},
   "outputs": [
    {
     "name": "stdout",
     "output_type": "stream",
     "text": [
      "the hallway is 11.25 sqm\n",
      "the kitchen is 18.0 sqm\n",
      "the living room is 20.0 sqm\n",
      "the bedroom is 10.75 sqm\n",
      "the bathroom is 9.5 sqm\n"
     ]
    }
   ],
   "source": [
    "# house list of lists\n",
    "house = [[\"hallway\", 11.25], \n",
    "         [\"kitchen\", 18.0], \n",
    "         [\"living room\", 20.0], \n",
    "         [\"bedroom\", 10.75], \n",
    "         [\"bathroom\", 9.50]]\n",
    "         \n",
    "# Build a for loop from scratch\n",
    "for x in house :\n",
    "    print(\"the \" + x[0] + \" is \" + str(x[1]) + \" sqm\")"
   ]
  },
  {
   "cell_type": "markdown",
   "id": "1b81ea12",
   "metadata": {},
   "source": [
    "Loop over dictionary\n",
    "\n",
    "In Python 3, you need the items() method to loop over a dictionary:\n",
    "\n",
    "Write a for loop that goes through each key:value pair of europe. On each iteration, \"the capital of x is y\" should be printed out, where x is the key and y is the value of the pair."
   ]
  },
  {
   "cell_type": "code",
   "execution_count": 9,
   "id": "72f0295d",
   "metadata": {},
   "outputs": [
    {
     "name": "stdout",
     "output_type": "stream",
     "text": [
      "the capital of spain is madrid\n",
      "the capital of france is paris\n",
      "the capital of germany is berlin\n",
      "the capital of norway is oslo\n",
      "the capital of italy is rome\n",
      "the capital of poland is warsaw\n",
      "the capital of austria is vienna\n"
     ]
    }
   ],
   "source": [
    "# Definition of dictionary\n",
    "europe = {'spain':'madrid', 'france':'paris', 'germany':'berlin',\n",
    "          'norway':'oslo', 'italy':'rome', 'poland':'warsaw', \n",
    "          'austria':'vienna' }\n",
    "          \n",
    "# Iterate over europe\n",
    "for key, value in europe.items():\n",
    "    print(\"the capital of \" + key + \" is \" + str(value))"
   ]
  },
  {
   "cell_type": "markdown",
   "id": "5970d73a",
   "metadata": {},
   "source": [
    "Loop over NumPy array\n",
    "\n",
    "If you're dealing with a 1D NumPy array, looping over all elements can be as simple as:\n",
    "\n",
    "for x in my_array :\n",
    "    ...\n",
    "\n",
    "If you're dealing with a 2D NumPy array, it's more complicated. A 2D array is built up of multiple 1D arrays. To explicitly iterate over all separate elements of a multi-dimensional array, you'll need this syntax:\n",
    "\n",
    "for x in np.nditer(my_array) :\n",
    "    ...\n",
    "\n",
    "Two NumPy arrays that you might recognize from the intro course are available in your Python session: np_height, a NumPy array containing the heights of Major League Baseball players, and np_baseball, a 2D NumPy array that contains both the heights (first column) and weights (second column) of those players."
   ]
  },
  {
   "cell_type": "code",
   "execution_count": null,
   "id": "7042aba8",
   "metadata": {},
   "outputs": [],
   "source": [
    "# Import numpy as np\n",
    "import numpy as np\n",
    "\n",
    "'''\n",
    "Write a for loop that iterates over all elements \n",
    "in np_height and prints out \"x inches\" for each element, \n",
    "where x is the value in the array.\n",
    "'''\n",
    "# For loop over np_height\n",
    "for x in np_height :\n",
    "    print(str(x) + \" inches\")\n",
    "\n",
    "'''\n",
    "Write a for loop that visits every element of the \n",
    "np_baseball array and prints it out.\n",
    "'''\n",
    "# For loop over np_baseball\n",
    "for x in np.nditer(np_baseball) :\n",
    "    print(x)"
   ]
  },
  {
   "cell_type": "markdown",
   "id": "8071e5aa",
   "metadata": {},
   "source": [
    "Loop over DataFrame (1)\n",
    "\n",
    "Iterating over a Pandas DataFrame is typically done with the iterrows() method. Used in a for loop, every observation is iterated over and on every iteration the row label and actual row contents are available:\n",
    "\n",
    "for lab, row in brics.iterrows() :\n",
    "    ...\n",
    "\n",
    "In this and the following exercises you will be working on the cars DataFrame. It contains information on the cars per capita and whether people drive right or left for seven countries in the world.\n",
    "\n",
    "cars_per_cap        country  drives_right\n",
    "US            809  United States          True\n",
    "AUS           731      Australia         False\n",
    "JPN           588          Japan         False\n",
    "IN             18          India         False\n",
    "RU            200         Russia          True\n",
    "MOR            70        Morocco          True\n",
    "EG             45          Egypt          True"
   ]
  },
  {
   "cell_type": "code",
   "execution_count": 10,
   "id": "29786fbd",
   "metadata": {},
   "outputs": [
    {
     "name": "stdout",
     "output_type": "stream",
     "text": [
      "US\n",
      "cars_per_cap              809\n",
      "country         United States\n",
      "drives_right             True\n",
      "Name: US, dtype: object\n",
      "AUS\n",
      "cars_per_cap          731\n",
      "country         Australia\n",
      "drives_right        False\n",
      "Name: AUS, dtype: object\n",
      "JPN\n",
      "cars_per_cap      588\n",
      "country         Japan\n",
      "drives_right    False\n",
      "Name: JPN, dtype: object\n",
      "IN\n",
      "cars_per_cap       18\n",
      "country         India\n",
      "drives_right    False\n",
      "Name: IN, dtype: object\n",
      "RU\n",
      "cars_per_cap       200\n",
      "country         Russia\n",
      "drives_right      True\n",
      "Name: RU, dtype: object\n",
      "MOR\n",
      "cars_per_cap         70\n",
      "country         Morocco\n",
      "drives_right       True\n",
      "Name: MOR, dtype: object\n",
      "EG\n",
      "cars_per_cap       45\n",
      "country         Egypt\n",
      "drives_right     True\n",
      "Name: EG, dtype: object\n"
     ]
    }
   ],
   "source": [
    "'''\n",
    "Write a for loop that iterates over the rows of cars \n",
    "and on each iteration perform two print() calls: \n",
    "one to print out the row label and one to print out all \n",
    "of the rows contents.\n",
    "'''\n",
    "\n",
    "# Import cars data\n",
    "import pandas as pd\n",
    "cars = pd.read_csv('cars.csv', index_col = 0)\n",
    "\n",
    "# Iterate over rows of cars\n",
    "for lab, row in cars.iterrows() :\n",
    "    print(lab)\n",
    "    print(row)"
   ]
  },
  {
   "cell_type": "markdown",
   "id": "7bea1118",
   "metadata": {},
   "source": [
    "Loop over DataFrame (2)\n",
    "\n",
    "The row data that's generated by iterrows() on every run is a Pandas Series. This format is not very convenient to print out. Luckily, you can easily select variables from the Pandas Series using square brackets:\n",
    "\n",
    "for lab, row in brics.iterrows() :\n",
    "    print(row['country'])\n",
    "\n"
   ]
  },
  {
   "cell_type": "code",
   "execution_count": 11,
   "id": "eed04b50",
   "metadata": {},
   "outputs": [
    {
     "name": "stdout",
     "output_type": "stream",
     "text": [
      "US: 809\n",
      "AUS: 731\n",
      "JPN: 588\n",
      "IN: 18\n",
      "RU: 200\n",
      "MOR: 70\n",
      "EG: 45\n"
     ]
    }
   ],
   "source": [
    "'''\n",
    "Using the iterators lab and row, adapt the \n",
    "code in the for loop such that the first iteration \n",
    "prints out \"US: 809\", the second iteration \"AUS: 731\", and so on. \n",
    "\n",
    "The output should be in the form \"country: cars_per_cap\". \n",
    "Make sure to print out this exact string (with the correct spacing).\n",
    "    You can use str() to convert your integer data to a string \n",
    "    so that you can print it in conjunction with the country label.\n",
    "'''\n",
    "\n",
    "# Import cars data\n",
    "import pandas as pd\n",
    "cars = pd.read_csv('cars.csv', index_col = 0)\n",
    "\n",
    "# Adapt for loop\n",
    "for lab, row in cars.iterrows() :\n",
    "    print(lab + \": \" + str(row['cars_per_cap']))\n"
   ]
  },
  {
   "cell_type": "markdown",
   "id": "41d92976",
   "metadata": {},
   "source": [
    "Add column (1)\n",
    "\n",
    "In the video, Hugo showed you how to add the length of the country names of the brics DataFrame in a new column:"
   ]
  },
  {
   "cell_type": "code",
   "execution_count": 12,
   "id": "5014b82a",
   "metadata": {},
   "outputs": [
    {
     "name": "stdout",
     "output_type": "stream",
     "text": [
      "     cars_per_cap        country  drives_right        COUNTRY\n",
      "US            809  United States          True  UNITED STATES\n",
      "AUS           731      Australia         False      AUSTRALIA\n",
      "JPN           588          Japan         False          JAPAN\n",
      "IN             18          India         False          INDIA\n",
      "RU            200         Russia          True         RUSSIA\n",
      "MOR            70        Morocco          True        MOROCCO\n",
      "EG             45          Egypt          True          EGYPT\n"
     ]
    }
   ],
   "source": [
    "'''\n",
    "Use a for loop to add a new column, named COUNTRY, \n",
    "that contains a uppercase version of the country names \n",
    "in the \"country\" column. You can use the \n",
    "string method upper() for this.\n",
    "To see if your code worked, print out cars. \n",
    "Don't indent this code, so that it's not part of the for loop.\n",
    "'''\n",
    "\n",
    "# Import cars data\n",
    "import pandas as pd\n",
    "cars = pd.read_csv('cars.csv', index_col = 0)\n",
    "\n",
    "# Code for loop that adds COUNTRY column\n",
    "for lab, row in cars.iterrows() :\n",
    "    cars.loc[lab, \"COUNTRY\"] = row[\"country\"].upper()\n",
    "\n",
    "\n",
    "# Print cars\n",
    "print(cars)"
   ]
  },
  {
   "cell_type": "markdown",
   "id": "8d017104",
   "metadata": {},
   "source": [
    "Add column (2)\n",
    "\n",
    "Using iterrows() to iterate over every observation of a Pandas DataFrame is easy to understand, but not very efficient. On every iteration, you're creating a new Pandas Series.\n",
    "\n",
    "If you want to add a column to a DataFrame by calling a function on another column, the iterrows() method in combination with a for loop is not the preferred way to go. Instead, you'll want to use apply().\n",
    "\n",
    "Compare the iterrows() version with the apply() version to get the same result in the brics DataFrame\n",
    "\n",
    "for lab, row in brics.iterrows() :\n",
    "    brics.loc[lab, \"name_length\"] = len(row[\"country\"])\n",
    "\n",
    "brics[\"name_length\"] = brics[\"country\"].apply(len)\n",
    "\n",
    "\n",
    "We can do a similar thing to call the upper() method on every name in the country column. However, upper() is a method, so we'll need a slightly different approach:\n"
   ]
  },
  {
   "cell_type": "code",
   "execution_count": 13,
   "id": "d68bc457",
   "metadata": {},
   "outputs": [
    {
     "name": "stdout",
     "output_type": "stream",
     "text": [
      "     cars_per_cap        country  drives_right        COUNTRY\n",
      "US            809  United States          True  UNITED STATES\n",
      "AUS           731      Australia         False      AUSTRALIA\n",
      "JPN           588          Japan         False          JAPAN\n",
      "IN             18          India         False          INDIA\n",
      "RU            200         Russia          True         RUSSIA\n",
      "MOR            70        Morocco          True        MOROCCO\n",
      "EG             45          Egypt          True          EGYPT\n"
     ]
    }
   ],
   "source": [
    "'''\n",
    "Replace the for loop with a one-liner that \n",
    "uses .apply(str.upper). The call should give the same result: \n",
    "a column COUNTRY should be added to cars, containing \n",
    "an uppercase version of the country names.\n",
    "\n",
    "As usual, print out cars to see the fruits of your hard labor\n",
    "'''\n",
    "# Import cars data\n",
    "import pandas as pd\n",
    "cars = pd.read_csv('cars.csv', index_col = 0)\n",
    "\n",
    "# Use .apply(str.upper)\n",
    "for lab, row in cars.iterrows() :\n",
    "    cars[\"COUNTRY\"] = cars[\"country\"].apply(str.upper)\n",
    "\n",
    "print(cars)"
   ]
  },
  {
   "cell_type": "markdown",
   "id": "86027e56",
   "metadata": {},
   "source": [
    "### Random Float"
   ]
  },
  {
   "cell_type": "markdown",
   "id": "da7fd91d",
   "metadata": {},
   "source": [
    "Random float\n",
    "\n",
    "Randomness has many uses in science, art, statistics, cryptography, gaming, gambling, and other fields. You're going to use randomness to simulate a game.\n",
    "\n",
    "All the functionality you need is contained in the random package, a sub-package of numpy. In this exercise, you'll be using two functions from this package:\n",
    "\n",
    "    seed(): sets the random seed, so that your results are reproducible between simulations. As an argument, it takes an integer of your choosing. If you call the function, no output will be generated.\n",
    "    \n",
    "    rand(): if you don't specify any arguments, it generates a random float between zero and one.\n"
   ]
  },
  {
   "cell_type": "code",
   "execution_count": 14,
   "id": "1769ec7e",
   "metadata": {},
   "outputs": [
    {
     "name": "stdout",
     "output_type": "stream",
     "text": [
      "0.6964691855978616\n"
     ]
    }
   ],
   "source": [
    "# Import numpy as np\n",
    "import numpy as np\n",
    "\n",
    "# Set the seed\n",
    "np.random.seed(123)\n",
    "\n",
    "# Generate and print random float\n",
    "print(np.random.rand())"
   ]
  },
  {
   "cell_type": "markdown",
   "id": "9d2daf66",
   "metadata": {},
   "source": [
    "In the previous exercise, you used rand(), that generates a random float between 0 and 1.\n",
    "\n",
    "As Hugo explained in the video you can just as well use randint(), also a function of the random package, to generate integers randomly. The following call generates the integer 4, 5, 6 or 7 randomly. 8 is not included.\n",
    "\n",
    "import numpy as np\n",
    "np.random.randint(4, 8)\n",
    "\n",
    "NumPy has already been imported as np and a seed has been set. Can you roll some dice?"
   ]
  },
  {
   "cell_type": "code",
   "execution_count": 15,
   "id": "abde716b",
   "metadata": {},
   "outputs": [
    {
     "name": "stdout",
     "output_type": "stream",
     "text": [
      "6\n",
      "3\n"
     ]
    }
   ],
   "source": [
    "'''\n",
    "Use randint() with the appropriate arguments to randomly generate the \n",
    "integer 1, 2, 3, 4, 5 or 6. This simulates a dice. Print it out.\n",
    "Repeat the outcome to see if the second throw is different. Again, \n",
    "print out the result.\n",
    "'''\n",
    "# Import numpy and set seed\n",
    "import numpy as np\n",
    "np.random.seed(123)\n",
    "\n",
    "# Use randint() to simulate a dice\n",
    "print(np.random.randint(1,7))\n",
    "\n",
    "# Use randint() again\n",
    "print(np.random.randint(1,7))"
   ]
  },
  {
   "cell_type": "markdown",
   "id": "e8f01714",
   "metadata": {},
   "source": [
    "Determine your next move\n",
    "\n",
    "In the Empire State Building bet, your next move depends on the number of eyes you throw with the dice. We can perfectly code this with an if-elif-else construct!\n",
    "\n",
    "The sample code assumes that you're currently at step 50. Can you fill in the missing pieces to finish the script? numpy is already imported as np and the seed has been set to 123, so you don't have to worry about that anymore."
   ]
  },
  {
   "cell_type": "code",
   "execution_count": 16,
   "id": "b0cae866",
   "metadata": {},
   "outputs": [
    {
     "name": "stdout",
     "output_type": "stream",
     "text": [
      "5\n",
      "51\n"
     ]
    }
   ],
   "source": [
    "'''\n",
    "\n",
    "    Roll the dice. Use randint() to create the variable dice.\n",
    "    Finish the if-elif-else construct by replacing ___:\n",
    "    If dice is 1 or 2, you go one step down.\n",
    "    if dice is 3, 4 or 5, you go one step up.\n",
    "    Else, you throw the dice again. The number of eyes is the number of steps you go up.\n",
    "    Print out dice and step. Given the value of dice, was step updated correctly?\n",
    "\n",
    "'''\n",
    "# NumPy is imported, seed is set\n",
    "\n",
    "# Starting step\n",
    "step = 50\n",
    "\n",
    "# Roll the dice\n",
    "dice = np.random.randint(1, 7)\n",
    "\n",
    "# Finish the control construct\n",
    "if dice <= 2 :\n",
    "    step = step - 1\n",
    "elif dice <= 5 :\n",
    "    step = step + 1\n",
    "else :\n",
    "    step = step + np.random.randint(1,7)\n",
    "\n",
    "# Print out dice and step\n",
    "print(dice)\n",
    "print(step)"
   ]
  },
  {
   "cell_type": "markdown",
   "id": "4d50905f",
   "metadata": {},
   "source": [
    "The next step\n",
    "\n",
    "Before, you have already written Python code that determines the next step based on the previous step. Now it's time to put this code inside a for loop so that we can simulate a random walk."
   ]
  },
  {
   "cell_type": "code",
   "execution_count": 17,
   "id": "f145234c",
   "metadata": {},
   "outputs": [
    {
     "name": "stdout",
     "output_type": "stream",
     "text": [
      "[0, 1, 0, 1, 2, 3, 2, 1, 0, -1, -2, -3, -4, -5, -4, 1, 0, -1, 0, -1, 0, 1, 2, 3, 4, 3, 4, 3, 4, 5, 6, 7, 6, 10, 11, 10, 11, 10, 11, 12, 13, 14, 15, 16, 17, 20, 21, 22, 23, 28, 29, 33, 34, 33, 34, 35, 34, 35, 36, 38, 39, 40, 39, 38, 39, 40, 39, 38, 39, 40, 42, 41, 40, 41, 40, 41, 42, 43, 45, 44, 45, 46, 47, 48, 49, 48, 47, 48, 47, 48, 49, 48, 51, 52, 53, 54, 53, 54, 55, 59, 58]\n"
     ]
    }
   ],
   "source": [
    "'''\n",
    "\n",
    "    Make a list random_walk that contains the first step, which is the integer 0.\n",
    "    Finish the for loop:\n",
    "    The loop should run 100 times.\n",
    "    On each iteration, set step equal to the last element in the random_walk list. You can use the index -1 for this.\n",
    "    Next, let the if-elif-else construct update step for you.\n",
    "    The code that appends step to random_walk is already coded.\n",
    "    Print out random_walk.\n",
    "\n",
    "'''\n",
    "\n",
    "# NumPy is imported, seed is set\n",
    "\n",
    "# Initialize random_walk\n",
    "random_walk = [0]\n",
    "\n",
    "# Complete the ___\n",
    "for x in range(100) :\n",
    "    # Set step: last element in random_walk\n",
    "    step = random_walk[-1]\n",
    "\n",
    "    # Roll the dice\n",
    "    dice = np.random.randint(1,7)\n",
    "\n",
    "    # Determine next step\n",
    "    if dice <= 2:\n",
    "        step = step - 1\n",
    "    elif dice <= 5:\n",
    "        step = step + 1\n",
    "    else:\n",
    "        step = step + np.random.randint(1,7)\n",
    "\n",
    "    # append next_step to random_walk\n",
    "    random_walk.append(step)\n",
    "\n",
    "# Print random_walk\n",
    "print(random_walk)\n"
   ]
  },
  {
   "cell_type": "code",
   "execution_count": null,
   "id": "7dcab20f",
   "metadata": {},
   "outputs": [],
   "source": []
  },
  {
   "cell_type": "markdown",
   "id": "2a21bea2",
   "metadata": {},
   "source": [
    "Plot the distribution\n",
    "\n",
    "All these fancy visualizations have put us on a sidetrack. We still have to solve the million-dollar problem: What are the odds that you'll reach 60 steps high on the Empire State Building?\n",
    "\n",
    "Basically, you want to know about the end points of all the random walks you've simulated. These end points have a certain distribution that you can visualize with a histogram.\n",
    "\n",
    "Note that if your code is taking too long to run, you might be plotting a histogram of the wrong data!"
   ]
  },
  {
   "cell_type": "code",
   "execution_count": 18,
   "id": "0fa6a7f7",
   "metadata": {},
   "outputs": [
    {
     "data": {
      "image/png": "[encoded data removed]",
      "text/plain": [
       "<Figure size 432x288 with 1 Axes>"
      ]
     },
     "metadata": {
      "needs_background": "light"
     },
     "output_type": "display_data"
    }
   ],
   "source": [
    "'''\n",
    "\n",
    "    To make sure we've got enough simulations, go crazy. Simulate the random walk 500 times.\n",
    "    From np_aw_t, select the last row. This contains the endpoint of all 500 random walks you've simulated. Store this NumPy array as ends.\n",
    "    Use plt.hist() to build a histogram of ends. Don't forget plt.show() to display the plot.\n",
    "\n",
    "'''\n",
    "# numpy and matplotlib imported, seed set\n",
    "\n",
    "# Simulate random walk 500 times\n",
    "all_walks = []\n",
    "for i in range(500) :\n",
    "    random_walk = [0]\n",
    "    for x in range(100) :\n",
    "        step = random_walk[-1]\n",
    "        dice = np.random.randint(1,7)\n",
    "        if dice <= 2:\n",
    "            step = max(0, step - 1)\n",
    "        elif dice <= 5:\n",
    "            step = step + 1\n",
    "        else:\n",
    "            step = step + np.random.randint(1,7)\n",
    "        if np.random.rand() <= 0.001 :\n",
    "            step = 0\n",
    "        random_walk.append(step)\n",
    "    all_walks.append(random_walk)\n",
    "\n",
    "# Create and plot np_aw_t\n",
    "np_aw_t = np.transpose(np.array(all_walks))\n",
    "\n",
    "# Select last row from np_aw_t: ends\n",
    "ends = np_aw_t[-1,:]\n",
    "\n",
    "# Plot histogram of ends, display plot\n",
    "plt.hist(ends)\n",
    "plt.show()"
   ]
  },
  {
   "cell_type": "code",
   "execution_count": null,
   "id": "71fae69c",
   "metadata": {},
   "outputs": [],
   "source": []
  },
  {
   "cell_type": "code",
   "execution_count": 19,
   "id": "b4f1db8b",
   "metadata": {},
   "outputs": [
    {
     "data": {
      "text/plain": [
       "array([ 0,  1,  2,  3,  4,  5,  6,  7,  8,  9, 10, 11, 12, 13, 14, 15, 16,\n",
       "       17, 18, 19, 20, 21, 22, 23, 24, 25, 26, 27, 28, 29])"
      ]
     },
     "execution_count": 19,
     "metadata": {},
     "output_type": "execute_result"
    }
   ],
   "source": [
    "np.arange(30)# gera uma sequencia de 30 numeros aleatorios"
   ]
  },
  {
   "cell_type": "code",
   "execution_count": null,
   "id": "97ae66e8",
   "metadata": {},
   "outputs": [],
   "source": []
  },
  {
   "cell_type": "code",
   "execution_count": null,
   "id": "905443b6",
   "metadata": {},
   "outputs": [],
   "source": []
  }
 ],
 "metadata": {
  "kernelspec": {
   "display_name": "Python 3 (ipykernel)",
   "language": "python",
   "name": "python3"
  },
  "language_info": {
   "codemirror_mode": {
    "name": "ipython",
    "version": 3
   },
   "file_extension": ".py",
   "mimetype": "text/x-python",
   "name": "python",
   "nbconvert_exporter": "python",
   "pygments_lexer": "ipython3",
   "version": "3.8.10"
  }
 },
 "nbformat": 4,
 "nbformat_minor": 5
}

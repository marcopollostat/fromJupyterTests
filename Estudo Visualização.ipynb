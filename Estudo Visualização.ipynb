{
 "cells": [
  {
   "cell_type": "markdown",
   "id": "a3dd0f87",
   "metadata": {},
   "source": [
    "# Estudos Iniciais Python - Dados e Visualização"
   ]
  },
  {
   "cell_type": "code",
   "execution_count": 1,
   "id": "31618332",
   "metadata": {},
   "outputs": [],
   "source": [
    "import numpy as np\n",
    "import pandas as pd\n",
    "import scipy as sp\n",
    "import matplotlib.pyplot as plt\n",
    "from scipy import stats\n",
    "from numpy.random import randn"
   ]
  },
  {
   "cell_type": "markdown",
   "id": "5f86b901",
   "metadata": {},
   "source": [
    "__The pwd (print working directory) command outputs the folder we are in__"
   ]
  },
  {
   "cell_type": "code",
   "execution_count": null,
   "id": "f4afe923",
   "metadata": {},
   "outputs": [],
   "source": [
    "pwd"
   ]
  },
  {
   "cell_type": "markdown",
   "id": "bf02fd95",
   "metadata": {},
   "source": [
    "__The ls (list) command lists the files and folders inside the current directory__"
   ]
  },
  {
   "cell_type": "code",
   "execution_count": null,
   "id": "0342652c",
   "metadata": {},
   "outputs": [],
   "source": [
    "ls"
   ]
  },
  {
   "cell_type": "markdown",
   "id": "04acdc19",
   "metadata": {},
   "source": [
    "***Semente Aleatória e números aleatórios***"
   ]
  },
  {
   "cell_type": "code",
   "execution_count": null,
   "id": "eb16d12f",
   "metadata": {},
   "outputs": [],
   "source": [
    "import random\n",
    "random.seed(123)\n",
    "print(random.random()) "
   ]
  },
  {
   "cell_type": "markdown",
   "id": "14aa2a3f",
   "metadata": {},
   "source": [
    "### Como destacar textos com fundo colorido"
   ]
  },
  {
   "cell_type": "markdown",
   "id": "6e3bf760",
   "metadata": {},
   "source": [
    "<div class=\"alert alert-block alert-warning\"><b>Example:</b> Use yellow boxes for examples that are not inside code cells, or use for mathematical formulas if needed. Typically also used to display warning messages.</div>"
   ]
  },
  {
   "cell_type": "markdown",
   "id": "c1ff424e",
   "metadata": {},
   "source": [
    "<div class=\"alert alert-block alert-info\"><b>Tip:</b> Use blue boxes (alert-info) for tips and notes.</div>"
   ]
  },
  {
   "cell_type": "markdown",
   "id": "9529d3c0",
   "metadata": {},
   "source": [
    "<div class=\"alert alert-block alert-success\"><b>Success:</b> This alert box indicates a successful or positive action.</div>"
   ]
  },
  {
   "cell_type": "markdown",
   "id": "70e2891d",
   "metadata": {},
   "source": [
    "<div class=\"alert alert-block alert-danger\"><b>Danger:</b> This alert box indicates a dangerous or potentially negative action.</div>"
   ]
  },
  {
   "cell_type": "markdown",
   "id": "82d3fa96",
   "metadata": {},
   "source": [
    "### Gráfico de Pizza"
   ]
  },
  {
   "cell_type": "code",
   "execution_count": 2,
   "id": "610cf517",
   "metadata": {},
   "outputs": [],
   "source": [
    "import seaborn as sns\n",
    "import matplotlib.pyplot as plt\n",
    "\n",
    "txtLabels = 'Cats', 'Dogs', 'Frogs', 'Others'\n",
    "\n",
    "fractions = [45, 30, 15, 10]\n",
    "\n",
    "offsets = (0, 0.05, 0, 0)"
   ]
  },
  {
   "cell_type": "code",
   "execution_count": 3,
   "id": "91096c26",
   "metadata": {},
   "outputs": [
    {
     "data": {
      "text/plain": [
       "tuple"
      ]
     },
     "execution_count": 3,
     "metadata": {},
     "output_type": "execute_result"
    }
   ],
   "source": [
    "type(txtLabels)"
   ]
  },
  {
   "cell_type": "code",
   "execution_count": 4,
   "id": "65ddddfc",
   "metadata": {},
   "outputs": [
    {
     "data": {
      "text/plain": [
       "list"
      ]
     },
     "execution_count": 4,
     "metadata": {},
     "output_type": "execute_result"
    }
   ],
   "source": [
    "type(fractions)"
   ]
  },
  {
   "cell_type": "code",
   "execution_count": 5,
   "id": "7833c984",
   "metadata": {},
   "outputs": [
    {
     "data": {
      "text/plain": [
       "tuple"
      ]
     },
     "execution_count": 5,
     "metadata": {},
     "output_type": "execute_result"
    }
   ],
   "source": [
    "type(offsets)"
   ]
  },
  {
   "cell_type": "code",
   "execution_count": 9,
   "id": "e9d2bcbf",
   "metadata": {},
   "outputs": [
    {
     "data": {
      "image/png": "[encoded data removed]",
      "text/plain": [
       "<Figure size 432x288 with 1 Axes>"
      ]
     },
     "metadata": {},
     "output_type": "display_data"
    }
   ],
   "source": [
    "_ = plt.pie(fractions, explode = offsets, labels = txtLabels, \n",
    "            autopct = '%1.1f%%', startangle = 90,\n",
    "            colors = sns.color_palette('muted') )\n",
    "\n",
    "_ = plt.axis('equal')"
   ]
  },
  {
   "cell_type": "markdown",
   "id": "2cae3baa",
   "metadata": {},
   "source": [
    "### Criar um data frame com Pandas e Visualizar\n",
    "***gerar um data frame com 2 linhas e 4 colunas contendo numeros aleatorios em [0, 1]***"
   ]
  },
  {
   "cell_type": "code",
   "execution_count": 88,
   "id": "2e25c6a7",
   "metadata": {},
   "outputs": [
    {
     "data": {
      "text/html": [
       "<div>\n",
       "<style scoped>\n",
       "    .dataframe tbody tr th:only-of-type {\n",
       "        vertical-align: middle;\n",
       "    }\n",
       "\n",
       "    .dataframe tbody tr th {\n",
       "        vertical-align: top;\n",
       "    }\n",
       "\n",
       "    .dataframe thead th {\n",
       "        text-align: right;\n",
       "    }\n",
       "</style>\n",
       "<table border=\"1\" class=\"dataframe\">\n",
       "  <thead>\n",
       "    <tr style=\"text-align: right;\">\n",
       "      <th></th>\n",
       "      <th>a</th>\n",
       "      <th>b</th>\n",
       "      <th>c</th>\n",
       "      <th>d</th>\n",
       "    </tr>\n",
       "  </thead>\n",
       "  <tbody>\n",
       "    <tr>\n",
       "      <th>0</th>\n",
       "      <td>0.022469</td>\n",
       "      <td>0.989402</td>\n",
       "      <td>0.539313</td>\n",
       "      <td>0.875694</td>\n",
       "    </tr>\n",
       "    <tr>\n",
       "      <th>1</th>\n",
       "      <td>0.555680</td>\n",
       "      <td>0.940226</td>\n",
       "      <td>0.188216</td>\n",
       "      <td>0.540846</td>\n",
       "    </tr>\n",
       "  </tbody>\n",
       "</table>\n",
       "</div>"
      ],
      "text/plain": [
       "          a         b         c         d\n",
       "0  0.022469  0.989402  0.539313  0.875694\n",
       "1  0.555680  0.940226  0.188216  0.540846"
      ]
     },
     "execution_count": 88,
     "metadata": {},
     "output_type": "execute_result"
    }
   ],
   "source": [
    "df = pd.DataFrame(np.random.rand(2, 4), columns = ['a', 'b', 'c', 'd'])\n",
    "df"
   ]
  },
  {
   "cell_type": "markdown",
   "id": "d1b462f4",
   "metadata": {},
   "source": [
    "***Gráfico de Barras***"
   ]
  },
  {
   "cell_type": "code",
   "execution_count": 12,
   "id": "a6fd5ce6",
   "metadata": {},
   "outputs": [
    {
     "data": {
      "image/png": "[encoded data removed]",
      "text/plain": [
       "<Figure size 432x288 with 1 Axes>"
      ]
     },
     "metadata": {
      "needs_background": "light"
     },
     "output_type": "display_data"
    }
   ],
   "source": [
    "_ = df.plot(kind = 'bar', grid = False)"
   ]
  },
  {
   "cell_type": "markdown",
   "id": "48632eb9",
   "metadata": {},
   "source": [
    "<div class=\"alert alert-block alert-info\"><b>Tip:</b> The objects returned by fig.add_subplot are AxesSubplot objects, \n",
    "on which you can directly plot on the other empty subplots \n",
    "by calling each one’s instance methods.</div>"
   ]
  },
  {
   "cell_type": "code",
   "execution_count": 14,
   "id": "0110125b",
   "metadata": {},
   "outputs": [
    {
     "data": {
      "text/plain": [
       "list"
      ]
     },
     "execution_count": 14,
     "metadata": {},
     "output_type": "execute_result"
    }
   ],
   "source": [
    "type([1.5, 3.5, -2, 1.6])"
   ]
  },
  {
   "cell_type": "code",
   "execution_count": 18,
   "id": "490ce5c7",
   "metadata": {},
   "outputs": [
    {
     "data": {
      "image/png": "[encoded data removed]",
      "text/plain": [
       "<Figure size 432x288 with 4 Axes>"
      ]
     },
     "metadata": {
      "needs_background": "light"
     },
     "output_type": "display_data"
    }
   ],
   "source": [
    "fig = plt.figure() # creia-se o objeto figure\n",
    "\n",
    "ax1 = fig.add_subplot(2, 2, 1) # add_subplot(nrows, ncols, index, **kwargs)\n",
    "\n",
    "_ = plt.plot([0.5, 2.1, -2, -3,4])  # plota os valores no eixo y e os índices no eixo x\n",
    "\n",
    "ax2 = fig.add_subplot(2, 2, 2)\n",
    "\n",
    "ax3 = fig.add_subplot(2, 2, 3)\n",
    "\n",
    "ax4 = fig.add_subplot(2, 2, 4)\n",
    "\n",
    "_ = plt.plot([100, -1089, -2000, -1500])\n",
    "\n",
    "# pode se colocar a linha de comando de cada um plot apos cada linha de comando fig.add_subplot(, , ) ou . . ."
   ]
  },
  {
   "cell_type": "code",
   "execution_count": 25,
   "id": "a5936a4c",
   "metadata": {},
   "outputs": [
    {
     "data": {
      "image/png": "[encoded data removed]",
      "text/plain": [
       "<Figure size 432x288 with 3 Axes>"
      ]
     },
     "metadata": {
      "needs_background": "light"
     },
     "output_type": "display_data"
    }
   ],
   "source": [
    "'''\n",
    "pode criar o objeto figure, em seguida adicionar os add_subplots() e depois \n",
    "inserir todas as linhas de comando dos plots\n",
    "'''\n",
    "fig = plt.figure()\n",
    "ax1 = fig.add_subplot(1, 3, 1) # add_subplot(nrows, ncols, index, **kwargs)\n",
    "ax2 = fig.add_subplot(1, 3, 2)\n",
    "ax3 = fig.add_subplot(1, 3, 3)\n",
    "_ = ax1.hist(randn(100), bins=20, color='k', alpha=0.3)\n",
    "_ = ax2.scatter(np.arange(30), np.arange(30) + 3 * randn(30))\n",
    "_ = plt.plot(randn(50).cumsum(), 'k--')"
   ]
  },
  {
   "cell_type": "code",
   "execution_count": 20,
   "id": "377e252f",
   "metadata": {
    "scrolled": false
   },
   "outputs": [
    {
     "data": {
      "image/png": "[encoded data removed]",
      "text/plain": [
       "<Figure size 432x288 with 3 Axes>"
      ]
     },
     "metadata": {
      "needs_background": "light"
     },
     "output_type": "display_data"
    }
   ],
   "source": [
    "fig = plt.figure()\n",
    "ax1 = fig.add_subplot(2, 2, 1) # add_subplot(nrows, ncols, index, **kwargs)\n",
    "ax2 = fig.add_subplot(2, 2, 2)\n",
    "ax3 = fig.add_subplot(2, 2, 3)\n",
    "_ = ax1.hist(randn(100), bins=20, color='k', alpha=0.3)\n",
    "_ = ax2.scatter(np.arange(30), np.arange(30) + 3 * randn(30))\n",
    "_ = ax3.plot(randn(50).cumsum(), 'k--')"
   ]
  },
  {
   "cell_type": "markdown",
   "id": "dde5b524",
   "metadata": {},
   "source": [
    "### plt.subplots"
   ]
  },
  {
   "cell_type": "markdown",
   "id": "3bd9bb34",
   "metadata": {},
   "source": [
    "<div class=\"alert alert-block alert-info\"><b>Tip:</b> plt.subplots, that creates a new figure and returns a NumPy array containing the created subplot objects.</div>"
   ]
  },
  {
   "cell_type": "code",
   "execution_count": 26,
   "id": "5cb5208d",
   "metadata": {},
   "outputs": [
    {
     "data": {
      "image/png": "[encoded data removed]",
      "text/plain": [
       "<Figure size 432x288 with 6 Axes>"
      ]
     },
     "metadata": {
      "needs_background": "light"
     },
     "output_type": "display_data"
    }
   ],
   "source": [
    "fig, axes = plt.subplots(2, 3)"
   ]
  },
  {
   "cell_type": "markdown",
   "id": "3c03dc71",
   "metadata": {},
   "source": [
    "**pyplot.subplots options:**\n",
    "\n",
    "***Argument Description***\n",
    "\n",
    "***nrows***: Number of rows of subplots\n",
    "\n",
    "***ncols***: Number of columns of subplots\n",
    "\n",
    "***sharex***: All subplots should use the same X-axis ticks (adjusting the xlim will affect all subplots)\n",
    "\n",
    "***sharey***: All subplots should use the same Y-axis ticks (adjusting the ylim will affect all subplots)\n",
    "\n",
    "***subplot_kw***: Dict of keywords for creating the\n",
    "\n",
    "__**fig_kw__ Additional keywords to subplots are used when creating the figure, such as plt.subplots(2, 2,figsize=(8, 6))"
   ]
  },
  {
   "cell_type": "markdown",
   "id": "22f0e5f4",
   "metadata": {},
   "source": [
    "### Adjusting the spacing around subplots"
   ]
  },
  {
   "cell_type": "markdown",
   "id": "e0836d3b",
   "metadata": {},
   "source": [
    "<div class=\"alert alert-block alert-info\"><b>Tip:</b> By default matplotlib leaves a certain amount of padding around the outside of the subplots and spacing between subplots. This spacing is all specified relative to the height and width of the plot, so that if you resize the plot either programmatically or manually using the GUI window, the plot will dynamically adjust itself. The spacing can be most easily changed using the subplots_adjust Figure method, also available as a top-level function:</div>"
   ]
  },
  {
   "cell_type": "markdown",
   "id": "fbbea468",
   "metadata": {},
   "source": [
    "<div class=\"alert alert-block alert-warning\"><b>Example:</b> wspace and hspace controls the percent of the figure width and figure height, respectively, to use as spacing between subplots. Here is a small example where I shrink the spacing all the way to zero.</div>"
   ]
  },
  {
   "cell_type": "code",
   "execution_count": 28,
   "id": "4f1fea92",
   "metadata": {},
   "outputs": [],
   "source": [
    "#subplots_adjust(left = None, \n",
    "#                bottom = None, \n",
    "#                right = None, \n",
    "#                top = None, \n",
    "#                wspace = None, \n",
    "#                hspace = None)"
   ]
  },
  {
   "cell_type": "code",
   "execution_count": 37,
   "id": "46a23c8b",
   "metadata": {},
   "outputs": [
    {
     "data": {
      "image/png": "[encoded data removed]",
      "text/plain": [
       "<Figure size 432x288 with 4 Axes>"
      ]
     },
     "metadata": {
      "needs_background": "light"
     },
     "output_type": "display_data"
    }
   ],
   "source": [
    "fig, axes = plt.subplots(2, 2, sharex = True, sharey = True) # All subplots should use the same X-axis and Y-axis ticks\n",
    "for i in range(2):\n",
    "    for j in range(2):\n",
    "        axes[i, j].hist(randn(500), bins = 50, color = 'k', alpha = 0.5)\n",
    "plt.subplots_adjust(wspace = 0.05, hspace = 0) # pode-se mudar os valores e testar "
   ]
  },
  {
   "cell_type": "code",
   "execution_count": 38,
   "id": "d2c26095",
   "metadata": {},
   "outputs": [
    {
     "data": {
      "image/png": "[encoded data removed]",
      "text/plain": [
       "<Figure size 432x288 with 1 Axes>"
      ]
     },
     "metadata": {
      "needs_background": "light"
     },
     "output_type": "display_data"
    }
   ],
   "source": [
    "_ = plt.plot(randn(30).cumsum(), 'ko--')"
   ]
  },
  {
   "cell_type": "code",
   "execution_count": 40,
   "id": "f3717b59",
   "metadata": {},
   "outputs": [
    {
     "data": {
      "image/png": "[encoded data removed]",
      "text/plain": [
       "<Figure size 432x288 with 1 Axes>"
      ]
     },
     "metadata": {
      "needs_background": "light"
     },
     "output_type": "display_data"
    }
   ],
   "source": [
    "_ = plt.plot(randn(30).cumsum(), color = 'r', \n",
    "             linestyle = 'dashed', marker = 'o')"
   ]
  },
  {
   "cell_type": "code",
   "execution_count": 85,
   "id": "21e27e6b",
   "metadata": {},
   "outputs": [
    {
     "data": {
      "text/plain": [
       "array([ 0.16848192, -2.22285869, -0.49538545, -1.63887644, -1.41725999,\n",
       "       -0.37070692, -0.19152803,  0.09911448,  1.26732158,  1.95143207,\n",
       "        1.27021695,  2.5888663 ,  4.98351086,  3.32308631,  3.09304747,\n",
       "        3.16522968,  0.3521244 ,  1.9253227 ,  3.26835196,  3.32008228,\n",
       "        4.89794843,  6.76104583,  5.66254954,  5.23982068,  5.16145351,\n",
       "        6.49037141,  7.37331097,  7.22002421,  5.47875613,  5.16751826])"
      ]
     },
     "execution_count": 85,
     "metadata": {},
     "output_type": "execute_result"
    }
   ],
   "source": [
    "data = randn(30).cumsum()\n",
    "data"
   ]
  },
  {
   "cell_type": "code",
   "execution_count": 86,
   "id": "b08291cf",
   "metadata": {},
   "outputs": [
    {
     "data": {
      "text/plain": [
       "array([-1.70091236,  0.22599155, -0.71232174, -1.61488769,  1.26645377,\n",
       "       -0.06023415, -1.03226452,  2.05766848,  2.63028888, -0.08488519,\n",
       "       -1.94635615,  1.07949966,  1.2233859 , -0.78843744,  0.40834265,\n",
       "       -0.82744196, -0.81957295,  1.32695046,  0.33798235,  0.60564057,\n",
       "        1.37253858,  1.26469046,  1.63491642, -0.25236912,  1.59617684,\n",
       "       -0.20252057, -0.53779794,  0.10362379,  0.88774452,  1.28149478])"
      ]
     },
     "execution_count": 86,
     "metadata": {},
     "output_type": "execute_result"
    }
   ],
   "source": [
    "randn(30)"
   ]
  },
  {
   "cell_type": "code",
   "execution_count": 87,
   "id": "3fd6cfd6",
   "metadata": {},
   "outputs": [
    {
     "data": {
      "image/png": "[encoded data removed]",
      "text/plain": [
       "<Figure size 432x288 with 1 Axes>"
      ]
     },
     "metadata": {
      "needs_background": "light"
     },
     "output_type": "display_data"
    }
   ],
   "source": [
    "_ = plt.plot(data, 'k--', label = 'Default')"
   ]
  },
  {
   "cell_type": "code",
   "execution_count": 56,
   "id": "4615c222",
   "metadata": {},
   "outputs": [
    {
     "data": {
      "text/plain": [
       "(0.0, 1.0)"
      ]
     },
     "execution_count": 56,
     "metadata": {},
     "output_type": "execute_result"
    },
    {
     "data": {
      "image/png": "[encoded data removed]",
      "text/plain": [
       "<Figure size 432x288 with 1 Axes>"
      ]
     },
     "metadata": {
      "needs_background": "light"
     },
     "output_type": "display_data"
    }
   ],
   "source": [
    "# Called with no arguments returns the current parameter value\n",
    "# returns the current X axis plotting range\n",
    "plt.xlim()"
   ]
  },
  {
   "cell_type": "code",
   "execution_count": 57,
   "id": "8cf738cb",
   "metadata": {},
   "outputs": [
    {
     "data": {
      "text/plain": [
       "(0.0, 100.0)"
      ]
     },
     "execution_count": 57,
     "metadata": {},
     "output_type": "execute_result"
    },
    {
     "data": {
      "image/png": "[encoded data removed]",
      "text/plain": [
       "<Figure size 432x288 with 1 Axes>"
      ]
     },
     "metadata": {
      "needs_background": "light"
     },
     "output_type": "display_data"
    }
   ],
   "source": [
    "# Called with parameters sets the parameter value\n",
    "plt.xlim([0, 100])"
   ]
  },
  {
   "cell_type": "markdown",
   "id": "35a111af",
   "metadata": {},
   "source": [
    "**To illustrate customizing the axes, I’ll create a simple figure and plot of a random walk**"
   ]
  },
  {
   "cell_type": "code",
   "execution_count": 58,
   "id": "3f645ce6",
   "metadata": {},
   "outputs": [
    {
     "data": {
      "image/png": "[encoded data removed]",
      "text/plain": [
       "<Figure size 432x288 with 1 Axes>"
      ]
     },
     "metadata": {
      "needs_background": "light"
     },
     "output_type": "display_data"
    }
   ],
   "source": [
    "fig = plt.figure()\n",
    "ax = fig.add_subplot(1, 1, 1)"
   ]
  },
  {
   "cell_type": "code",
   "execution_count": 59,
   "id": "241eebf1",
   "metadata": {},
   "outputs": [
    {
     "data": {
      "image/png": "[encoded data removed]",
      "text/plain": [
       "<Figure size 432x288 with 1 Axes>"
      ]
     },
     "metadata": {
      "needs_background": "light"
     },
     "output_type": "display_data"
    }
   ],
   "source": [
    "fig = plt.figure()\n",
    "ax = fig.add_subplot(1, 1, 1)\n",
    "_ = ax.plot(randn(1000).cumsum())"
   ]
  },
  {
   "cell_type": "code",
   "execution_count": 61,
   "id": "6bf92a73",
   "metadata": {},
   "outputs": [],
   "source": [
    "# To change the X axis ticks, \n",
    "# it’s easiest to use set_xticks and set_xticklabels."
   ]
  },
  {
   "cell_type": "code",
   "execution_count": 60,
   "id": "fe8b7167",
   "metadata": {},
   "outputs": [
    {
     "data": {
      "image/png": "[encoded data removed]",
      "text/plain": [
       "<Figure size 432x288 with 1 Axes>"
      ]
     },
     "metadata": {
      "needs_background": "light"
     },
     "output_type": "display_data"
    }
   ],
   "source": [
    "fig = plt.figure()\n",
    "ax = fig.add_subplot(1, 1, 1)\n",
    "_ = ax.plot(randn(1000).cumsum())\n",
    "\n",
    "\n",
    "ticks = ax.set_xticks([0, 250, 500, 750, 1000])\n",
    "labels = ax.set_xticklabels(['one', 'two', 'three', 'four', 'five'],\n",
    "                            rotation = 30, fontsize = 'small')\n",
    "\n",
    "_ = ax.set_title('My first matplotlib plot')\n",
    "_ = ax.set_xlabel('Stages')"
   ]
  },
  {
   "cell_type": "code",
   "execution_count": null,
   "id": "fb2e5323",
   "metadata": {},
   "outputs": [],
   "source": [
    "fig = plt.figure()\n",
    "ax = fig.add_subplot(1, 1, 1)\n",
    "ax.plot(randn(1000).cumsum(), 'k', label='one')\n",
    "ax.plot(randn(1000).cumsum(), 'k--', label='two')\n",
    "ax.plot(randn(1000).cumsum(), 'k.', label='three')\n",
    "\n",
    "# Nesse caso dependendo do gráfico a legenda ajusta automaticamente a \n",
    "# posição ao usar o comando abaixo\n",
    "_ = ax.legend(loc='best')"
   ]
  },
  {
   "cell_type": "markdown",
   "id": "fb688699",
   "metadata": {},
   "source": [
    "**Saving Plots to File**"
   ]
  },
  {
   "cell_type": "markdown",
   "id": "73026123",
   "metadata": {},
   "source": [
    "<div class=\"alert alert-block alert-info\"><b>Tip:</b> There are a couple of important options that I use frequently for \n",
    "publishing graphics: dpi, which controls the dots-per-inch resolution, \n",
    "and bbox_inches, which can trim the whitespace around the actual figure. \n",
    "To get the same plot as a PNG above with minimal whitespace around \n",
    "the plot and at 400 DPI, you would do:</div>"
   ]
  },
  {
   "cell_type": "code",
   "execution_count": null,
   "id": "24ccada0",
   "metadata": {},
   "outputs": [],
   "source": [
    "fig = plt.figure()\n",
    "ax = fig.add_subplot(1, 1, 1)\n",
    "ax.plot(randn(1000).cumsum(), 'k', label = 'one')\n",
    "ax.plot(randn(1000).cumsum(), 'k--', label = 'two')\n",
    "ax.plot(randn(1000).cumsum(), 'k.', label = 'three')\n",
    "\n",
    "# Nesse caso dependendo do gráfico a legenda ajusta automaticamente a \n",
    "# posição ao usar o comando abaixo\n",
    "_ = ax.legend(loc = 'best')\n",
    "\n",
    "# plt.savefig('teste_salva_fig.png', dpi = 400, bbox_inches ='tight')\n",
    "plt.savefig('teste_salva_fig.pdf', dpi = 400, bbox_inches = 'tight')"
   ]
  },
  {
   "cell_type": "markdown",
   "id": "f3bc0c46",
   "metadata": {},
   "source": [
    "**Figure.savefig options**\n",
    "\n",
    "***Argument Description:***\n",
    "\n",
    "**fname**: String containing a filepath or a Python file-like object. The figure format is inferred from the file extension, e.g. .pdf for PDF or .png for PNG.\n",
    "\n",
    "**dpi**: The figure resolution in dots per inch; defaults to 100 out of the box but can be configured\n",
    "\n",
    "**facecolor, edge color**: The color of the figure background outside of the subplots. 'w' (white), by default\n",
    "\n",
    "**format**: The explicit file format to use ('png', 'pdf', 'svg', 'ps', 'eps', ...)\n",
    "\n",
    "**bbox_inches**: The portion of the figure to save. If 'tight' is passed, will attempt to trim the empty space around\n",
    "the figure\n",
    "'''"
   ]
  },
  {
   "cell_type": "markdown",
   "id": "4d961844",
   "metadata": {},
   "source": [
    "## Plotting Functions in pandas"
   ]
  },
  {
   "cell_type": "markdown",
   "id": "f8e1c04e",
   "metadata": {},
   "source": [
    "### Line Plots"
   ]
  },
  {
   "cell_type": "code",
   "execution_count": 62,
   "id": "3a803746",
   "metadata": {},
   "outputs": [
    {
     "data": {
      "image/png": "[encoded data removed]",
      "text/plain": [
       "<Figure size 432x288 with 1 Axes>"
      ]
     },
     "metadata": {
      "needs_background": "light"
     },
     "output_type": "display_data"
    }
   ],
   "source": [
    "s = pd.Series(np.random.randn(10).cumsum(), index = np.arange(0, 100, 10))\n",
    "_ = s.plot()"
   ]
  },
  {
   "cell_type": "markdown",
   "id": "fb16a8d2",
   "metadata": {},
   "source": [
    "**Series.plot method arguments**\n",
    "\n",
    "**Argument Description**\n",
    "\n",
    "***label***: Label for plot legend\n",
    "\n",
    "***ax***: matplotlib subplot object to plot on. If nothing passed, uses matplotlib subplot\n",
    "\n",
    "***style***: Style string, like 'ko--', to be passed to matplotlib.\n",
    "\n",
    "***alpha***: The plot fill opacity (from 0 to 1)\n",
    "\n",
    "***kind***: Can be 'line', 'bar', 'barh', 'kde'\n",
    "\n",
    "***logy***: Use logarithmic scaling on the Y axis\n",
    "\n",
    "***use_index***: Use the object index for tick labels\n",
    "\n",
    "***rot***: Rotation of tick labels (0 through 360)\n",
    "\n",
    "***xticks***: Values to use for X axis ticks\n",
    "\n",
    "***yticks***: Values to use for Y axis ticks\n",
    "\n",
    "***xlim***: X axis limits (e.g. [0, 10])\n",
    "\n",
    "***ylim***: Y axis limits\n",
    "\n",
    "***grid***: Display axis grid (on by default)"
   ]
  },
  {
   "cell_type": "code",
   "execution_count": 65,
   "id": "1d62a8aa",
   "metadata": {},
   "outputs": [
    {
     "data": {
      "text/html": [
       "<div>\n",
       "<style scoped>\n",
       "    .dataframe tbody tr th:only-of-type {\n",
       "        vertical-align: middle;\n",
       "    }\n",
       "\n",
       "    .dataframe tbody tr th {\n",
       "        vertical-align: top;\n",
       "    }\n",
       "\n",
       "    .dataframe thead th {\n",
       "        text-align: right;\n",
       "    }\n",
       "</style>\n",
       "<table border=\"1\" class=\"dataframe\">\n",
       "  <thead>\n",
       "    <tr style=\"text-align: right;\">\n",
       "      <th></th>\n",
       "      <th>A</th>\n",
       "      <th>B</th>\n",
       "      <th>C</th>\n",
       "      <th>D</th>\n",
       "    </tr>\n",
       "  </thead>\n",
       "  <tbody>\n",
       "    <tr>\n",
       "      <th>0</th>\n",
       "      <td>0.244908</td>\n",
       "      <td>-1.469383</td>\n",
       "      <td>-0.050573</td>\n",
       "      <td>-0.589261</td>\n",
       "    </tr>\n",
       "    <tr>\n",
       "      <th>10</th>\n",
       "      <td>-0.127286</td>\n",
       "      <td>-2.162105</td>\n",
       "      <td>1.173886</td>\n",
       "      <td>-1.283312</td>\n",
       "    </tr>\n",
       "    <tr>\n",
       "      <th>20</th>\n",
       "      <td>0.770589</td>\n",
       "      <td>-3.699092</td>\n",
       "      <td>2.201203</td>\n",
       "      <td>-0.954968</td>\n",
       "    </tr>\n",
       "    <tr>\n",
       "      <th>30</th>\n",
       "      <td>1.590963</td>\n",
       "      <td>-2.536008</td>\n",
       "      <td>2.987034</td>\n",
       "      <td>-0.596812</td>\n",
       "    </tr>\n",
       "    <tr>\n",
       "      <th>40</th>\n",
       "      <td>1.104661</td>\n",
       "      <td>-3.285750</td>\n",
       "      <td>2.467296</td>\n",
       "      <td>0.625690</td>\n",
       "    </tr>\n",
       "    <tr>\n",
       "      <th>50</th>\n",
       "      <td>1.830703</td>\n",
       "      <td>-3.538491</td>\n",
       "      <td>1.398940</td>\n",
       "      <td>-0.474393</td>\n",
       "    </tr>\n",
       "    <tr>\n",
       "      <th>60</th>\n",
       "      <td>0.904644</td>\n",
       "      <td>-5.911147</td>\n",
       "      <td>2.717236</td>\n",
       "      <td>1.416712</td>\n",
       "    </tr>\n",
       "    <tr>\n",
       "      <th>70</th>\n",
       "      <td>-0.074003</td>\n",
       "      <td>-7.134443</td>\n",
       "      <td>2.016827</td>\n",
       "      <td>3.126605</td>\n",
       "    </tr>\n",
       "    <tr>\n",
       "      <th>80</th>\n",
       "      <td>-1.644307</td>\n",
       "      <td>-8.848647</td>\n",
       "      <td>0.564981</td>\n",
       "      <td>2.150010</td>\n",
       "    </tr>\n",
       "    <tr>\n",
       "      <th>90</th>\n",
       "      <td>-1.678716</td>\n",
       "      <td>-9.156456</td>\n",
       "      <td>-0.872910</td>\n",
       "      <td>2.793194</td>\n",
       "    </tr>\n",
       "  </tbody>\n",
       "</table>\n",
       "</div>"
      ],
      "text/plain": [
       "           A         B         C         D\n",
       "0   0.244908 -1.469383 -0.050573 -0.589261\n",
       "10 -0.127286 -2.162105  1.173886 -1.283312\n",
       "20  0.770589 -3.699092  2.201203 -0.954968\n",
       "30  1.590963 -2.536008  2.987034 -0.596812\n",
       "40  1.104661 -3.285750  2.467296  0.625690\n",
       "50  1.830703 -3.538491  1.398940 -0.474393\n",
       "60  0.904644 -5.911147  2.717236  1.416712\n",
       "70 -0.074003 -7.134443  2.016827  3.126605\n",
       "80 -1.644307 -8.848647  0.564981  2.150010\n",
       "90 -1.678716 -9.156456 -0.872910  2.793194"
      ]
     },
     "execution_count": 65,
     "metadata": {},
     "output_type": "execute_result"
    }
   ],
   "source": [
    "'''\n",
    "DataFrame’s plot method plots each of its \n",
    "columns as a different line on the same\n",
    "subplot, creating a legend automatically\n",
    "'''\n",
    "\n",
    "df = pd.DataFrame(np.random.randn(10, 4).cumsum(0),\n",
    "               columns = ['A', 'B', 'C', 'D'],\n",
    "               index = np.arange(0, 100, 10))\n",
    "df"
   ]
  },
  {
   "cell_type": "code",
   "execution_count": 64,
   "id": "a7de6bb6",
   "metadata": {},
   "outputs": [
    {
     "data": {
      "image/png": "[encoded data removed]",
      "text/plain": [
       "<Figure size 432x288 with 1 Axes>"
      ]
     },
     "metadata": {
      "needs_background": "light"
     },
     "output_type": "display_data"
    }
   ],
   "source": [
    "_ = df.plot()"
   ]
  },
  {
   "cell_type": "markdown",
   "id": "3e5498fe",
   "metadata": {},
   "source": [
    "**DataFrame-specific plot arguments**\n",
    "\n",
    "**Argument Description**\n",
    "\n",
    "***subplots***: Plot each DataFrame column in a separate subplot\n",
    "\n",
    "***sharex***: If subplots=True, share the same X axis, linking ticks and limits\n",
    "\n",
    "***sharey***: If subplots=True, share the same Y axis\n",
    "\n",
    "***figsize***: Size of figure to create as tuple\n",
    "\n",
    "***title***: Plot title as string\n",
    "\n",
    "***legend***: Add a subplot legend (True by default)\n",
    "\n",
    "***sort_columns***: Plot columns in alphabetical order; by default uses existing column order\n",
    "\n"
   ]
  },
  {
   "cell_type": "markdown",
   "id": "04c55b0f",
   "metadata": {},
   "source": [
    "### Bar Plots"
   ]
  },
  {
   "cell_type": "code",
   "execution_count": 67,
   "id": "7ce82d54",
   "metadata": {},
   "outputs": [
    {
     "data": {
      "text/plain": [
       "a    0.584668\n",
       "b    0.353274\n",
       "c    0.978149\n",
       "d    0.041844\n",
       "e    0.374715\n",
       "f    0.284044\n",
       "g    0.005871\n",
       "h    0.602641\n",
       "i    0.451070\n",
       "j    0.347773\n",
       "k    0.764555\n",
       "l    0.557795\n",
       "m    0.139869\n",
       "n    0.628337\n",
       "o    0.865065\n",
       "p    0.832043\n",
       "dtype: float64"
      ]
     },
     "execution_count": 67,
     "metadata": {},
     "output_type": "execute_result"
    }
   ],
   "source": [
    "data = pd.Series(np.random.rand(16), \n",
    "                 index = list('abcdefghijklmnop'))\n",
    "data"
   ]
  },
  {
   "cell_type": "code",
   "execution_count": 68,
   "id": "835d950e",
   "metadata": {},
   "outputs": [
    {
     "data": {
      "image/png": "[encoded data removed]",
      "text/plain": [
       "<Figure size 432x288 with 2 Axes>"
      ]
     },
     "metadata": {
      "needs_background": "light"
     },
     "output_type": "display_data"
    }
   ],
   "source": [
    "fig, axes = plt.subplots(1, 2)\n",
    "_ = data.plot(kind = 'bar', ax = axes[0], color = 'k', alpha = 0.7)\n",
    "_ = data.plot(kind = 'barh', ax = axes[1], color = 'k', alpha=0.7)"
   ]
  },
  {
   "cell_type": "markdown",
   "id": "6419f06f",
   "metadata": {},
   "source": [
    "<div class=\"alert alert-block alert-danger\"><b>Danger:</b> ALTERAR A ORDEM DOS NUMEROS EM plt.subplots(2, 1) MUDA A DISPOSIÇÃO DOS GRAFICOS </div>"
   ]
  },
  {
   "cell_type": "code",
   "execution_count": 69,
   "id": "0161b7db",
   "metadata": {},
   "outputs": [
    {
     "data": {
      "image/png": "[encoded data removed]",
      "text/plain": [
       "<Figure size 432x288 with 2 Axes>"
      ]
     },
     "metadata": {
      "needs_background": "light"
     },
     "output_type": "display_data"
    }
   ],
   "source": [
    "fig, axes = plt.subplots(2, 1)\n",
    "_ = data.plot(kind = 'bar', ax = axes[0], color = 'k', alpha = 0.7)\n",
    "_ = data.plot(kind = 'barh', ax = axes[1], color = 'k', alpha=0.7)"
   ]
  },
  {
   "cell_type": "code",
   "execution_count": 70,
   "id": "7be097cc",
   "metadata": {},
   "outputs": [
    {
     "data": {
      "text/html": [
       "<div>\n",
       "<style scoped>\n",
       "    .dataframe tbody tr th:only-of-type {\n",
       "        vertical-align: middle;\n",
       "    }\n",
       "\n",
       "    .dataframe tbody tr th {\n",
       "        vertical-align: top;\n",
       "    }\n",
       "\n",
       "    .dataframe thead th {\n",
       "        text-align: right;\n",
       "    }\n",
       "</style>\n",
       "<table border=\"1\" class=\"dataframe\">\n",
       "  <thead>\n",
       "    <tr style=\"text-align: right;\">\n",
       "      <th>Genus</th>\n",
       "      <th>A</th>\n",
       "      <th>B</th>\n",
       "      <th>C</th>\n",
       "      <th>D</th>\n",
       "    </tr>\n",
       "  </thead>\n",
       "  <tbody>\n",
       "    <tr>\n",
       "      <th>one</th>\n",
       "      <td>0.516284</td>\n",
       "      <td>0.261421</td>\n",
       "      <td>0.589761</td>\n",
       "      <td>0.161204</td>\n",
       "    </tr>\n",
       "    <tr>\n",
       "      <th>two</th>\n",
       "      <td>0.669122</td>\n",
       "      <td>0.301337</td>\n",
       "      <td>0.010460</td>\n",
       "      <td>0.679151</td>\n",
       "    </tr>\n",
       "    <tr>\n",
       "      <th>three</th>\n",
       "      <td>0.342870</td>\n",
       "      <td>0.846986</td>\n",
       "      <td>0.138825</td>\n",
       "      <td>0.391232</td>\n",
       "    </tr>\n",
       "    <tr>\n",
       "      <th>four</th>\n",
       "      <td>0.523765</td>\n",
       "      <td>0.240127</td>\n",
       "      <td>0.953344</td>\n",
       "      <td>0.311966</td>\n",
       "    </tr>\n",
       "    <tr>\n",
       "      <th>five</th>\n",
       "      <td>0.210974</td>\n",
       "      <td>0.301987</td>\n",
       "      <td>0.410220</td>\n",
       "      <td>0.339368</td>\n",
       "    </tr>\n",
       "    <tr>\n",
       "      <th>six</th>\n",
       "      <td>0.529766</td>\n",
       "      <td>0.107723</td>\n",
       "      <td>0.540004</td>\n",
       "      <td>0.209453</td>\n",
       "    </tr>\n",
       "  </tbody>\n",
       "</table>\n",
       "</div>"
      ],
      "text/plain": [
       "Genus         A         B         C         D\n",
       "one    0.516284  0.261421  0.589761  0.161204\n",
       "two    0.669122  0.301337  0.010460  0.679151\n",
       "three  0.342870  0.846986  0.138825  0.391232\n",
       "four   0.523765  0.240127  0.953344  0.311966\n",
       "five   0.210974  0.301987  0.410220  0.339368\n",
       "six    0.529766  0.107723  0.540004  0.209453"
      ]
     },
     "execution_count": 70,
     "metadata": {},
     "output_type": "execute_result"
    }
   ],
   "source": [
    "df = pd.DataFrame(np.random.rand(6, 4),\n",
    "               index = ['one', 'two', 'three', 'four', 'five', 'six'],\n",
    "               columns = pd.Index(['A', 'B', 'C', 'D'], name = 'Genus'))\n",
    "df"
   ]
  },
  {
   "cell_type": "code",
   "execution_count": 71,
   "id": "c17405f1",
   "metadata": {},
   "outputs": [
    {
     "data": {
      "text/plain": [
       "array([[0.31775156, 0.26181001, 0.36081639, 0.81102386],\n",
       "       [0.90766914, 0.6959729 , 0.29977981, 0.27621786],\n",
       "       [0.45968491, 0.64629769, 0.63261051, 0.28797852],\n",
       "       [0.90373196, 0.34919726, 0.5429404 , 0.18334477],\n",
       "       [0.38373306, 0.2572439 , 0.07800746, 0.50764048],\n",
       "       [0.23393974, 0.49701548, 0.31726871, 0.34189622]])"
      ]
     },
     "execution_count": 71,
     "metadata": {},
     "output_type": "execute_result"
    }
   ],
   "source": [
    "np.random.rand(6, 4)"
   ]
  },
  {
   "cell_type": "code",
   "execution_count": 72,
   "id": "37138226",
   "metadata": {},
   "outputs": [
    {
     "data": {
      "image/png": "[encoded data removed]",
      "text/plain": [
       "<Figure size 432x288 with 1 Axes>"
      ]
     },
     "metadata": {
      "needs_background": "light"
     },
     "output_type": "display_data"
    }
   ],
   "source": [
    "_ = df.plot(kind='bar')"
   ]
  },
  {
   "cell_type": "code",
   "execution_count": 73,
   "id": "0930236d",
   "metadata": {},
   "outputs": [
    {
     "data": {
      "image/png": "[encoded data removed]",
      "text/plain": [
       "<Figure size 432x288 with 1 Axes>"
      ]
     },
     "metadata": {
      "needs_background": "light"
     },
     "output_type": "display_data"
    }
   ],
   "source": [
    "_ = df.plot(kind = 'barh', stacked = True, alpha = 0.5)"
   ]
  },
  {
   "cell_type": "markdown",
   "id": "6bd6b72d",
   "metadata": {},
   "source": [
    "### Histograms and Density Plots"
   ]
  },
  {
   "cell_type": "code",
   "execution_count": 106,
   "id": "1e326a5c",
   "metadata": {},
   "outputs": [
    {
     "data": {
      "text/plain": [
       "numpy.ndarray"
      ]
     },
     "execution_count": 106,
     "metadata": {},
     "output_type": "execute_result"
    }
   ],
   "source": [
    "comp1 = np.random.normal(0, 1, size = 200) # N(0, 1)\n",
    "comp2 = np.random.normal(10, 2, size = 200) # N(10, 4)\n",
    "\n",
    "type(comp1)"
   ]
  },
  {
   "cell_type": "code",
   "execution_count": 107,
   "id": "c28015e6",
   "metadata": {},
   "outputs": [],
   "source": [
    "values = pd.Series(np.concatenate([comp1, comp2]))"
   ]
  },
  {
   "cell_type": "code",
   "execution_count": 108,
   "id": "6ba30942",
   "metadata": {},
   "outputs": [
    {
     "data": {
      "image/png": "[encoded data removed]",
      "text/plain": [
       "<Figure size 432x288 with 1 Axes>"
      ]
     },
     "metadata": {
      "needs_background": "light"
     },
     "output_type": "display_data"
    }
   ],
   "source": [
    "_ = values.hist(bins = 100, alpha = 0.3, color = 'k', density = True)"
   ]
  },
  {
   "cell_type": "code",
   "execution_count": 111,
   "id": "00255b79",
   "metadata": {},
   "outputs": [
    {
     "data": {
      "image/png": "[encoded data removed]",
      "text/plain": [
       "<Figure size 432x288 with 1 Axes>"
      ]
     },
     "metadata": {
      "needs_background": "light"
     },
     "output_type": "display_data"
    }
   ],
   "source": [
    "_ = values.plot(kind = 'kde', style = 'r--')"
   ]
  },
  {
   "cell_type": "code",
   "execution_count": 113,
   "id": "6bee461d",
   "metadata": {},
   "outputs": [
    {
     "data": {
      "image/png": "[encoded data removed]",
      "text/plain": [
       "<Figure size 432x288 with 1 Axes>"
      ]
     },
     "metadata": {
      "needs_background": "light"
     },
     "output_type": "display_data"
    }
   ],
   "source": [
    "_ = values.plot(kind = 'kde', style = 'r--')\n",
    "_ = values.hist(bins = 100, alpha = 0.3, color = 'k', density = True)"
   ]
  },
  {
   "cell_type": "code",
   "execution_count": 80,
   "id": "53740938",
   "metadata": {},
   "outputs": [],
   "source": [
    "d1 = np.random.normal(0, 1, size = 200)\n",
    "d2 = np.random.binomial(n = 40, p = .37, size = 200)"
   ]
  },
  {
   "cell_type": "code",
   "execution_count": 81,
   "id": "d2360d1e",
   "metadata": {},
   "outputs": [
    {
     "data": {
      "image/png": "[encoded data removed]",
      "text/plain": [
       "<Figure size 432x288 with 1 Axes>"
      ]
     },
     "metadata": {
      "needs_background": "light"
     },
     "output_type": "display_data"
    }
   ],
   "source": [
    "_ = plt.scatter(d1, d2)\n",
    "_ = plt.title('Teste')"
   ]
  },
  {
   "cell_type": "markdown",
   "id": "88d7541b",
   "metadata": {},
   "source": [
    "<div class=\"alert alert-block alert-info\"><b>Tip:</b> Cria um objeto para reunir 4 plots e visualizá-los. Usando _ = guardamos os valores de saida do histograma quando não se usa plt.hist. O comando plt.tight_layout() dá o acabamento final nos 4 plots principalmente a distância entre eixos y's.</div>"
   ]
  },
  {
   "cell_type": "markdown",
   "id": "e0d9119f",
   "metadata": {},
   "source": [
    "### Visualização -  Dados aleatórios distribuição normal"
   ]
  },
  {
   "cell_type": "markdown",
   "id": "694e9af9",
   "metadata": {},
   "source": [
    "***Define os parametros da distribuicao normal e \n",
    "cria uma Freezing Distribution***"
   ]
  },
  {
   "cell_type": "code",
   "execution_count": 82,
   "id": "b346380a",
   "metadata": {},
   "outputs": [],
   "source": [
    "n, p = 100, 0.7\n",
    "myDistribution = stats.binom(n, p) # freezing distribution"
   ]
  },
  {
   "cell_type": "markdown",
   "id": "a9b05bb4",
   "metadata": {},
   "source": [
    "***Gera números aleatórios a partir da distribuição freezing\n",
    "com diferentes tamanhos de amostra***"
   ]
  },
  {
   "cell_type": "code",
   "execution_count": 83,
   "id": "49f1a833",
   "metadata": {},
   "outputs": [],
   "source": [
    "dt  = myDistribution.rvs(20)\n",
    "dt2 = myDistribution.rvs(50)\n",
    "dt3 = myDistribution.rvs(100)\n",
    "dt4 = myDistribution.rvs(1000)"
   ]
  },
  {
   "cell_type": "code",
   "execution_count": 84,
   "id": "fed3170c",
   "metadata": {},
   "outputs": [
    {
     "data": {
      "image/png": "[encoded data removed]",
      "text/plain": [
       "<Figure size 432x288 with 4 Axes>"
      ]
     },
     "metadata": {
      "needs_background": "light"
     },
     "output_type": "display_data"
    }
   ],
   "source": [
    "fig, (ax0, ax1, ax2, ax3) = plt.subplots(ncols = 4)\n",
    "_ = ax0.hist(dt, bins = 20, facecolor = 'g', alpha = 0.15)\n",
    "_ = ax1.hist(dt2, bins = 20, facecolor = 'b', alpha = 0.25)\n",
    "_ = ax2.hist(dt3, bins = 20, facecolor = 'r', alpha = 0.6)\n",
    "_ = ax3.hist(dt4, bins = 20, facecolor = 'y', alpha = 0.9)\n",
    "\n",
    "plt.tight_layout()\n",
    "\n",
    "_ = plt.show"
   ]
  },
  {
   "cell_type": "code",
   "execution_count": null,
   "id": "f6f35d56",
   "metadata": {},
   "outputs": [],
   "source": []
  },
  {
   "cell_type": "code",
   "execution_count": null,
   "id": "c30b3f4a",
   "metadata": {},
   "outputs": [],
   "source": []
  },
  {
   "cell_type": "code",
   "execution_count": null,
   "id": "5c82387b",
   "metadata": {},
   "outputs": [],
   "source": []
  },
  {
   "cell_type": "code",
   "execution_count": null,
   "id": "157eb9ea",
   "metadata": {},
   "outputs": [],
   "source": []
  },
  {
   "cell_type": "code",
   "execution_count": null,
   "id": "43532ddd",
   "metadata": {},
   "outputs": [],
   "source": []
  },
  {
   "cell_type": "code",
   "execution_count": null,
   "id": "4842bfc0",
   "metadata": {},
   "outputs": [],
   "source": []
  },
  {
   "cell_type": "code",
   "execution_count": null,
   "id": "a448e5e2",
   "metadata": {},
   "outputs": [],
   "source": []
  }
 ],
 "metadata": {
  "kernelspec": {
   "display_name": "Python 3 (ipykernel)",
   "language": "python",
   "name": "python3"
  },
  "language_info": {
   "codemirror_mode": {
    "name": "ipython",
    "version": 3
   },
   "file_extension": ".py",
   "mimetype": "text/x-python",
   "name": "python",
   "nbconvert_exporter": "python",
   "pygments_lexer": "ipython3",
   "version": "3.8.10"
  }
 },
 "nbformat": 4,
 "nbformat_minor": 5
}
